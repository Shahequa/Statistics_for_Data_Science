{
 "cells": [
  {
   "cell_type": "markdown",
   "id": "313e31e4-690b-4d7e-b214-5e90736bd6ae",
   "metadata": {},
   "source": [
    "## Statistics Basic Assignment - I\n",
    "***By Shahequa Modabbera***"
   ]
  },
  {
   "cell_type": "markdown",
   "id": "8cd9b180-eb18-4185-bb21-2ab039a04854",
   "metadata": {},
   "source": [
    "### Q1. What is Statistics?"
   ]
  },
  {
   "cell_type": "markdown",
   "id": "7533f3eb-9593-4072-90a4-2c9aebc596f3",
   "metadata": {},
   "source": [
    "`Ans) Statistics is the study and manipulation of data, including ways to gather, review, analyze, and draw conclusions from data.` \n",
    "\n",
    "`In data science, statistics is at the core of sophisticated machine learning algorithms, capturing and translating data patterns into actionable evidence. Data scientists use statistics to gather, review, analyze, and draw conclusions from data, as well as apply quantified mathematical models to appropriate variables.`"
   ]
  },
  {
   "cell_type": "markdown",
   "id": "139ab500-a774-4289-9edb-412b5006b45d",
   "metadata": {},
   "source": [
    "### Q2. Define the different types of statistics and give an example of when each type might be used."
   ]
  },
  {
   "cell_type": "markdown",
   "id": "b6a806b7-15ed-42ef-8a38-c7cc43732eb9",
   "metadata": {},
   "source": [
    "`Ans) There are two types of statistics:`\n",
    "\n",
    "#### (i) Descriptive Statistics\n",
    "\n",
    "`It is used to quantitatively describe the attributes of the known data and provides summaries of either the sample or the population. Graphs, charts, and tables can be used to represent descriptive statistics. The measures of descriptive statistics are given as follows:`\n",
    "\n",
    "    Measures of central tendency: These measures are used to describe data with respect to a single central point. Mean, median, and mode are three types of central tendency.\n",
    "    \n",
    "    Measures of dispersion: These measures are used to describe the variability of data. In other words, it is used to quantify the spread of a distribution about a central value. Range, variance, standard deviation, mean deviation, quartile deviation, and coefficients of dispersion are the types that fall under this category.\n",
    "\n",
    "#### (ii) Inferential Statistics\n",
    "\n",
    "`Inferential statistics are used when generalizations about the population need to be made and conclusions need to be drawn based on the available samples. Inferential statistics uses various types of statistical tests and sampling techniques in order to make inferences about the population data. The measures of inferential statistics are given below:`\n",
    "\n",
    "    Hypothesis testing - It is used to test some assumptions and make inferences about the population parameters by using an estimate of the sample. There are many types of statistical tests used for this purpose. Some of them are the z test, t test, f test, and ANOVA test.\n",
    "    \n",
    "    Regression Analysis - This type of analysis is used when the effect of change in one variable causing a change in another variable needs to be evaluated and quantified. Simple linear, multiple linear, nominal, logistic, and ordinal regression are the types of regression analysis."
   ]
  },
  {
   "cell_type": "markdown",
   "id": "b3f572a5-a302-4c41-99f5-7a967fe0d3df",
   "metadata": {},
   "source": [
    "### Q3. What are the different types of data and how do they differ from each other? Provide an example of each type of data."
   ]
  },
  {
   "cell_type": "markdown",
   "id": "972feca7-9326-4ef5-95e2-d14459798a59",
   "metadata": {},
   "source": [
    "Ans) There are two types of data: Qualitative and Quantitative data, which are further classified into:\n",
    "\n",
    "    (i) Nominal data.\n",
    "    (ii) Ordinal data.\n",
    "    (iii) Discrete data.\n",
    "    (iv) Continuous data.\n"
   ]
  },
  {
   "attachments": {
    "e5c50d78-c5f1-4a22-ab1f-449fce99c187.png": {
     "image/png": "[encoded data removed]"
    }
   },
   "cell_type": "markdown",
   "id": "e8153563-79f4-48ce-ac47-887661cda29a",
   "metadata": {},
   "source": [
    "![types-of-data-.png](attachment:e5c50d78-c5f1-4a22-ab1f-449fce99c187.png)"
   ]
  },
  {
   "cell_type": "markdown",
   "id": "7009607d-b931-4382-9186-3f8243a9a202",
   "metadata": {},
   "source": [
    "#### A) Qualitative or Categorical Data\n",
    "\n",
    "`Qualitative or Categorical Data is data that can’t be measured or counted in the form of numbers. These types of data are sorted by category, not by number. That’s why it is also known as Categorical Data. These data consist of audio, images, symbols, or text. The gender of a person, i.e., male, female, or others, is qualitative data.`\n",
    "\n",
    "`Qualitative data tells about the perception of people. This data helps market researchers understand the customers’ tastes and then design their ideas and strategies accordingly.` \n",
    "\n",
    "#### (i) Nominal Data\n",
    "\n",
    "`Nominal Data is used to label variables without any order or quantitative value.` \n",
    "`Example: The marital status(single, married, widowed) can be considered as nominal data.`\n",
    "\n",
    "`The name “nominal” comes from the Latin name “nomen,” which means “name.” With the help of nominal data, we can’t do any numerical tasks or can’t give any order to sort the data. These data don’t have any meaningful order; their values are distributed into distinct categories.`\n",
    "\n",
    "#### (ii) Ordinal Data\n",
    "\n",
    "`Ordinal data have natural ordering where a number is present in some kind of order by their position on the scale. These data are used for observation like customer satisfaction, happiness, etc., but we can’t do any arithmetical tasks on them.` \n",
    "`Example: When companies ask for feedback, experience, or satisfaction on a scale of 1 to 10`\n",
    "\n",
    "`The ordinal data only shows the sequences and cannot use for statistical analysis. Compared to nominal data, ordinal data have some kind of order that is not present in nominal data.` \n",
    "\n",
    "#### B) Quantitative Data\n",
    "\n",
    "`Quantitative data can be expressed in numerical values, making it countable and including statistical data analysis. These kinds of data are also known as Numerical data. It answers the questions like “how much,” “how many,” and “how often.” For example, the price of a phone, the computer’s ram, the height or weight of a person, etc., falls under quantitative data.` \n",
    "\n",
    "`Quantitative data can be used for statistical manipulation. These data can be represented on a wide variety of graphs and charts, such as bar graphs, histograms, scatter plots, boxplots, pie charts, line graphs, etc.`\n",
    "\n",
    "#### (i) Discrete Data\n",
    "\n",
    "`The term discrete means distinct or separate. The discrete data contain the values that fall under integers or whole numbers. These data can’t be broken into decimal or fraction values.`\n",
    "`Example: The total number of employees in a company is an example of discrete data.`\n",
    "\n",
    "`The discrete data are countable and have finite values; their subdivision is not possible. These data are represented mainly by a bar graph, number line, or frequency table.`\n",
    "\n",
    "#### (ii) Continuous Data \n",
    "\n",
    "`Continuous data are in the form of fractional numbers. Continuous data represents information that can be divided into smaller levels. The continuous variable can take any value within a range.` \n",
    "`Example: Height of a person, version of an android phone, etc are examples of continuous data.`\n",
    "\n",
    "`The key difference between discrete and continuous data is that discrete data contains the integer or whole number. While, continuous data stores the fractional numbers to record different types of data such as temperature, height, width, time, speed, etc.`"
   ]
  },
  {
   "cell_type": "markdown",
   "id": "b2d61e8a-1f64-4113-8437-c2d9285dbf48",
   "metadata": {},
   "source": [
    "### Q4. Categorise the following datasets with respect to quantitative and qualitative data types:\n",
    "    (i) Grading in exam: A+, A, B+, B, C+, C, D, E\n",
    "    (ii) Colour of mangoes: yellow, green, orange, red\n",
    "    (iii) Height data of a class: [178.9, 179, 179.5, 176, 177.2, 178.3, 175.8,...]\n",
    "    (iv) Number of mangoes exported by a farm: [500, 600, 478, 672, ...]"
   ]
  },
  {
   "cell_type": "markdown",
   "id": "4d7f6db6-5339-4bed-b2ec-3be722dfd1bd",
   "metadata": {},
   "source": [
    "`Ans)`\n",
    "\n",
    "`(i) Grading in exam: A+, A, B+, B, C+, C, D, E`\n",
    "\n",
    " `--> Qualititative Data (Ordinal Data)`\n",
    "\n",
    "`(ii) Colour of mangoes: yellow, green, orange, red`\n",
    "\n",
    " `--> Qualititative Data (Nominal Data)`\n",
    "\n",
    "`(iii) Height data of a class: [178.9, 179, 179.5, 176, 177.2, 178.3, 175.8,...]`\n",
    "\n",
    " `--> Quantitative Data (Continuous Data)`\n",
    "\n",
    "`(iv) Number of mangoes exported by a farm: [500, 600, 478, 672, ...]`\n",
    "\n",
    " `--> Quantitative Data (Discrete Data)`"
   ]
  },
  {
   "cell_type": "markdown",
   "id": "ff8f4bb7-681e-453e-a0d8-bacaac204070",
   "metadata": {},
   "source": [
    "### Q5. Explain the concept of levels of measurement and give an example of a variable for each level."
   ]
  },
  {
   "cell_type": "markdown",
   "id": "4aada8fa-9f07-4f71-ad78-7958b661f384",
   "metadata": {},
   "source": [
    "`Ans) Levels of measurement, also called scales of measurement, tell us how precisely variables are recorded. In scientific research, a variable is anything that can take on different values across our data set (e.g., height or test scores).`\n",
    "\n",
    "`There are 4 levels of measurement:`\n",
    "\n",
    "    Nominal: We can categorize our data by labelling them in mutually exclusive groups, but there is no order between the categories. \t\n",
    "    Example: City of birth, Gender\n",
    "    \n",
    "    Ordinal: We can categorize and rank our data in an order, but we cannot say anything about the intervals between the rankings.\n",
    "    Example: Top 5 Olympic medallists, Language ability (e.g., beginner, intermediate, fluent)\n",
    "    \n",
    "    Interval: We can categorize, rank, and infer equal intervals between neighboring data points, but there is no true zero point.\n",
    "    Example: Test scores (e.g., IQ or exams), Temperature in Fahrenheit or Celsius\n",
    "\n",
    "    Ratio: We can categorize, rank, and infer equal intervals between neighboring data points, and there is a true zero point.\n",
    "    Example: Height, Age\n",
    "\n",
    "`Depending on the level of measurement of the variable, what we can do to analyze our data may be limited. There is a hierarchy in the complexity and precision of the level of measurement, from low (nominal) to high (ratio).`"
   ]
  },
  {
   "cell_type": "markdown",
   "id": "3c76f914-af5e-40b4-a44a-36ea61872d30",
   "metadata": {},
   "source": [
    "### Q6. Why is it important to understand the level of measurement when analyzing data? Provide an example to illustrate your answer."
   ]
  },
  {
   "cell_type": "markdown",
   "id": "6f8509cc-2586-461b-aa23-dd20488b52e4",
   "metadata": {},
   "source": [
    "`Ans) Knowing the level of measurement of our variables is important for two reasons:` \n",
    "\n",
    "`Each of the levels of measurement provides a different level of detail.  Nominal provides the least amount of detail, ordinal provides the next highest amount of detail, and interval and ratio provide the most amount of detail.`\n",
    "\n",
    "`The second reason levels of measurement are important to know is because different statistical tests are appropriate for variables with different levels of measurement.  For example, chi-square tests of independence are most appropriate for nominal level data.  The Mann-Whitney U test is most appropriate for an ordinal level dependent variable and a nominal level independent variable.  An ANOVA is most appropriate for a continuous level dependent variable and a nominal level independent variable.`\n",
    "\n",
    "##### Example:\n",
    "    In a nominal level variable, values are grouped into categories that have no meaningful order.  For example, gender and political affiliation are nominal level variables.  Members in the group are assigned a label in that group and there is no hierarchy.  Typical descriptive statistics associated with nominal data are frequencies and percentages.\n",
    "\n",
    "    Ordinal level variables are nominal level variables with a meaningful order.  For example, horse race winners can be assigned labels of first, second, third, fourth, etc. and these labels have an ordered relationship among them (i.e., first is higher than second, second is higher than third, and so on).  As with nominal level variables, ordinal level variables are typically described with frequencies and percentages.\n",
    "\n",
    "    Interval and ratio level variables (also called continuous level variables) have the most detail associated with them.  Mathematical operations such as addition, subtraction, multiplication, and division can be accurately applied to the values of these variables.  An example variable would be the amount of milk used in cookie recipe (measured in cups).  This variable has arithmetic properties such that 2 cups of milk is exactly twice as much as 1 cup of milk.  Additionally, the difference between 1 and 2 cups of milk is exactly the same as the difference between 2 and 3 cups of milk.  Interval and ratio level variables are typically described using means and standard deviations."
   ]
  },
  {
   "cell_type": "markdown",
   "id": "599faf9e-5245-499b-94fc-5eefde76febf",
   "metadata": {},
   "source": [
    "### Q7. How nominal data type is different from ordinal data type."
   ]
  },
  {
   "cell_type": "markdown",
   "id": "09fcd43a-af81-4996-ba3e-f73a83da161c",
   "metadata": {},
   "source": [
    "`Ans) Nominal data can’t be quantified, neither they have any intrinsic ordering. While, Ordinal data gives some kind of sequential order by their position on the scale.`\n",
    "\n",
    "`Nominal data don’t provide any quantitative value, neither can we perform any arithmetical operation. Whereas, we can provide sequence and can assign numbers to ordinal data but cannot perform the arithmetical operation.`\n",
    "\n",
    "`Nominal data cannot be used to compare with one another. Ordinal data can help to compare one item with another by ranking or ordering.`\n",
    "\n",
    "    Nominal Data Examples: Eye color, housing style, gender, hair color, religion, marital status, ethnicity, etc\n",
    "    \n",
    "    Ordinal Data Examples: Economic status, customer satisfaction, education level, letter grades, etc "
   ]
  },
  {
   "cell_type": "markdown",
   "id": "23ac6591-9388-43b4-8f91-ab38376393b0",
   "metadata": {},
   "source": [
    "### Q8. Which type of plot can be used to display data in terms of range?"
   ]
  },
  {
   "cell_type": "markdown",
   "id": "ff164ae8-f1f7-4cb6-9093-60673010e634",
   "metadata": {},
   "source": [
    "`Ans)` \n",
    "`A box plot or box and whisker plot is commonly used to display data in terms of range. This type of plot shows the distribution of a dataset, including the minimum and maximum values, the median (or middle) value, and the first and third quartiles.`\n",
    "\n",
    "`In a box plot, a box is drawn around the middle 50% of the data, with a line inside the box representing the median value. Lines, called whiskers, extend from the box to the minimum and maximum values. Outliers may be plotted individually as points outside the whiskers.`\n",
    "\n",
    "`Box plots are useful for identifying the spread and skewness of a dataset, as well as any potential outliers. They are often used in exploratory data analysis and in comparing the distributions of multiple datasets.`\n",
    "\n",
    "`Other types of plots that can be used to display data in terms of range include range plots and dot plots, but box plots are generally preferred because they provide more information about the distribution of the data.`"
   ]
  },
  {
   "cell_type": "markdown",
   "id": "be7e53a1-b56e-44a7-a729-3260ef465fc7",
   "metadata": {},
   "source": [
    "### Q9. Describe the difference between descriptive and inferential statistics. Give an example of each type of statistics and explain how they are used."
   ]
  },
  {
   "cell_type": "markdown",
   "id": "4685881c-b1ea-4880-8030-c2a239244e09",
   "metadata": {},
   "source": [
    "`Ans)` \n",
    "`Descriptive statistics summarize the features or characteristics of a data set, while Inferential statistics enables the user to test a hypothesis to check if the data is generalizable to the wider population.`\n",
    "\n",
    "`Descriptive Statistics gives information about raw data regarding its description or features. Inferential statistics, on the other hand, draw inferences about the population by using data extracted from the population.` \n",
    "\n",
    "`We use descriptive statistics to describe a situation, while we use inferential statistics to explain the probability of occurrence of an event. \n",
    "As for descriptive statistics, it helps to organize, analyze and present data in a meaningful manner. Inferential statistics helps to compare data, make hypotheses and predictions.` \n",
    "\n",
    "`Descriptive statistics explains already known data related to a particular sample or population of a small size. Inferential statistics, however, aims to draw inferences or conclusions about a whole population.`\n",
    "\n",
    "`We use charts, graphs, and tables to represent descriptive statistics, while we use probability methods for inferential statistics.`\n",
    "\n",
    "`It is simpler to perform a study using descriptive statistics rather than inferential statistics, where we need to establish a relationship between variables in an entire population.` \n",
    "\n",
    "##### Example of Descriptive Statistics:\n",
    "\n",
    "`Descriptive statistics are used to enumerate and explain a dataset's key characteristics. Measures like mean, median, mode, range, variance, and standard deviation are some examples. For instance, we could use descriptive statistics to determine the average age, the age distribution, and the age standard deviation of a group of individuals if we wanted to summarize their ages.`\n",
    "\n",
    "##### Example of Inferential Statistics: \n",
    "\n",
    "`Using a sample of data, inferential statistics is used to draw conclusions or generalizations about a broader population. Examples include regression analysis, confidence ranges, and hypothesis testing. For instance, we could use inferential statistics to assess whether there is a significant difference in the outcomes of patients who receive the drug compared to those who receive a placebo if we want to know if a new drug is effective.`"
   ]
  },
  {
   "cell_type": "markdown",
   "id": "c100b413-10e5-4d82-8928-c6fc5a79154a",
   "metadata": {},
   "source": [
    "### Q10. What are some common measures of central tendency and variability used in statistics? Explain how each measure can be used to describe a dataset."
   ]
  },
  {
   "cell_type": "markdown",
   "id": "883f1e1c-6805-423e-aac4-58b607f9e371",
   "metadata": {},
   "source": [
    "`Ans) The three commonly used measures of central tendency are the mean, median, and mode and measures of variability include range, standard deviation, and interquartile range. These measures help to describe the distribution of a dataset by summarizing its main features, such as the typical or average value, the spread or variability of the data, and the shape of the distribution.`\n",
    "\n",
    "#### Measures of central tendency:\n",
    "\n",
    "    Mean: The mean is the most common measure of central tendency, and it represents the average value of the dataset. It is calculated by summing all the values in the dataset and dividing by the total number of values. The mean is sensitive to outliers and can be influenced by extreme values.\n",
    "\n",
    "    Median: The median is the middle value in the dataset when the values are ordered from smallest to largest. It is a robust measure of central tendency that is not affected by outliers, and it provides information about the middle value of the distribution.\n",
    "\n",
    "    Mode: The mode is the value that occurs most frequently in the dataset. It is useful for identifying the most common value or category in the dataset, and it can be used for both numerical and categorical data.\n",
    "\n",
    "#### Measures of variability:\n",
    "\n",
    "    Range: The range is the difference between the largest and smallest values in the dataset. It provides information about the spread of the data, but it is sensitive to outliers and can be influenced by extreme values.\n",
    "\n",
    "    Standard deviation: The standard deviation measures the average distance of each value from the mean. It is a common measure of variability that is useful for understanding the spread of the data, and it is less sensitive to outliers than the range.\n",
    "\n",
    "    Interquartile range: The interquartile range (IQR) is the difference between the third and first quartiles of the dataset. It provides information about the middle 50% of the data, and it is a robust measure of variability that is not affected by outliers.\n",
    "\n",
    "`Each of these measures of central tendency and variability can be used to describe different aspects of a dataset. For example, the mean and median can provide information about the typical value of the data, while the range, standard deviation, and IQR can provide information about the spread or variability of the data. Understanding these measures is essential for interpreting and communicating statistical results accurately and effectively.`"
   ]
  }
 ],
 "metadata": {
  "kernelspec": {
   "display_name": "Python 3 (ipykernel)",
   "language": "python",
   "name": "python3"
  },
  "language_info": {
   "codemirror_mode": {
    "name": "ipython",
    "version": 3
   },
   "file_extension": ".py",
   "mimetype": "text/x-python",
   "name": "python",
   "nbconvert_exporter": "python",
   "pygments_lexer": "ipython3",
   "version": "3.10.8"
  }
 },
 "nbformat": 4,
 "nbformat_minor": 5
}
