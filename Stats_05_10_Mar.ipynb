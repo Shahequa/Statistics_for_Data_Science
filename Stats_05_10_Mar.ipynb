{
 "cells": [
  {
   "cell_type": "markdown",
   "id": "b7105e56-f186-48c7-84a1-1e433fe3c4b8",
   "metadata": {},
   "source": [
    "## Statistics Advance Assignment - 3\n",
    "***By Shahequa Modabbera***"
   ]
  },
  {
   "cell_type": "markdown",
   "id": "3b94f927-869d-45ef-aa07-f9e6afb8723f",
   "metadata": {},
   "source": [
    "### Q1: What is Estimation Statistics? Explain point estimate and interval estimate."
   ]
  },
  {
   "cell_type": "markdown",
   "id": "393767e3-327f-4580-b2ba-24af464ebf27",
   "metadata": {},
   "source": [
    "`Ans) Estimation statistics is a branch of statistics that deals with estimating or guessing the value of a population parameter based on information obtained from a sample of the population.`\n",
    "\n",
    "`Point estimate is a single value that is used to estimate the value of the population parameter. It is calculated by using a sample statistic such as the mean or the proportion. For example, if we wanted to estimate the average height of all students in a school, we could take a sample of 30 students and calculate their average height. The resulting value would be the point estimate for the population parameter.`\n",
    "\n",
    "`Interval estimate, on the other hand, is a range of values that is used to estimate the value of the population parameter. It is calculated by using a sample statistic and a margin of error. The margin of error takes into account the variability in the sample and gives a range of values within which the true population parameter is likely to lie. For example, if we wanted to estimate the average height of all students in a school with 95% confidence, we could calculate a 95% confidence interval using the sample mean and standard deviation. The resulting interval estimate would be a range of values that the true population parameter is likely to lie within.`"
   ]
  },
  {
   "cell_type": "markdown",
   "id": "7a7fd654-f039-4f5c-badf-eac4f27c32d0",
   "metadata": {},
   "source": [
    "### Q2. Write a Python function to estimate the population mean using a sample mean and standard deviation."
   ]
  },
  {
   "cell_type": "code",
   "execution_count": 1,
   "id": "3924cdd8-3ddc-4439-9511-b75b9af01b53",
   "metadata": {},
   "outputs": [],
   "source": [
    "import math\n",
    "\n",
    "def estimate_population_mean(sample_mean, sample_std_dev, sample_size):\n",
    "    \"\"\"Estimates the population mean using a sample mean, standard deviation, and sample size.\"\"\"\n",
    "    std_error = sample_std_dev / math.sqrt(sample_size) # calculate the standard error\n",
    "    z_value = 1.96 # use a z-value of 1.96 for a 95% confidence interval\n",
    "    margin_of_error = z_value * std_error # cal the margin of error\n",
    "    lower_bound = sample_mean - margin_of_error # cal the lower bound of the confidence interval\n",
    "    upper_bound = sample_mean + margin_of_error # cal the upper bound of the confidence interval\n",
    "    return lower_bound, upper_bound"
   ]
  },
  {
   "cell_type": "markdown",
   "id": "89075f84-5be5-48cb-9bda-0a404b2c056f",
   "metadata": {},
   "source": [
    "**To use this function, we would pass in the sample mean, standard deviation, and sample size as arguments, like this:**"
   ]
  },
  {
   "cell_type": "code",
   "execution_count": 2,
   "id": "1b73c116-cbc9-49c5-bdec-160f805f57a4",
   "metadata": {},
   "outputs": [
    {
     "data": {
      "text/plain": [
       "(9.608, 10.392)"
      ]
     },
     "execution_count": 2,
     "metadata": {},
     "output_type": "execute_result"
    }
   ],
   "source": [
    "sample_mean = 10\n",
    "sample_std_dev = 2\n",
    "sample_size = 100\n",
    "\n",
    "estimate_population_mean(sample_mean, sample_std_dev, sample_size)\n",
    "\n",
    "## This would return a tuple with the lower and upper bounds of the 95% confidence interval for the population mean."
   ]
  },
  {
   "cell_type": "markdown",
   "id": "8108f204-4455-465b-813e-fb1936a50b35",
   "metadata": {},
   "source": [
    "\n",
    "### Q3: What is Hypothesis testing? Why is it used? State the importance of Hypothesis testing."
   ]
  },
  {
   "cell_type": "markdown",
   "id": "ece327a6-ffc3-48e4-b5f8-24d18667e7fd",
   "metadata": {},
   "source": [
    "`Ans) Hypothesis testing is a statistical technique used to test the validity of a hypothesis or claim about a population parameter based on sample data. It involves comparing the sample data to what would be expected if the hypothesis were true, and using this comparison to determine whether the hypothesis is likely to be true or not.`\n",
    "\n",
    "`Hypothesis testing is used in a variety of fields, including science, business, and social sciences, to make decisions based on data. It helps researchers and decision-makers determine whether the results of a study or experiment are statistically significant, meaning that they are unlikely to have occurred by chance.`\n",
    "\n",
    "`The importance of hypothesis testing lies in its ability to provide a systematic and objective way of testing the validity of claims or hypotheses about a population parameter. By using statistical techniques to analyze sample data, hypothesis testing allows researchers to draw conclusions about a population based on a representative sample, while taking into account the variability and uncertainty inherent in statistical data.`\n",
    "\n",
    "`Hypothesis testing also provides a framework for making decisions based on data, helping researchers and decision-makers to avoid making decisions based on anecdotal evidence or personal biases. It allows for objective evaluation of data, and helps to ensure that conclusions are based on evidence rather than assumptions or intuition.`"
   ]
  },
  {
   "cell_type": "markdown",
   "id": "8e0c2c10-c2b8-444d-8762-7171a622adbd",
   "metadata": {},
   "source": [
    "### Q4. Create a hypothesis that states whether the average weight of male college students is greater than the average weight of female college students."
   ]
  },
  {
   "cell_type": "markdown",
   "id": "116fec7f-d369-4d6b-8f78-eee730595dbc",
   "metadata": {},
   "source": [
    "`Ans) Here's an example hypothesis that states whether the average weight of male college students is greater than the average weight of female college students:`\n",
    "\n",
    "- Null hypothesis (H0): The average weight of male college students is equal to or less than the average weight of female college students.\n",
    "\n",
    "- Alternative hypothesis (Ha): The average weight of male college students is greater than the average weight of female college students.\n",
    "\n",
    "`We can test this hypothesis by collecting a random sample of male and female college students and calculating the mean weight of each group. Then, we can use statistical techniques such as a t-test or z-test to determine whether the difference in means is statistically significant, and whether we can reject the null hypothesis in favor of the alternative hypothesis.`"
   ]
  },
  {
   "cell_type": "markdown",
   "id": "05fd114b-22b0-489d-9792-a48edf9baa72",
   "metadata": {},
   "source": [
    "### Q5. Write a Python script to conduct a hypothesis test on the difference between two population means, given a sample from each population."
   ]
  },
  {
   "cell_type": "code",
   "execution_count": 3,
   "id": "db51eede-b0ac-4802-85de-d224e8181b6c",
   "metadata": {},
   "outputs": [
    {
     "name": "stdout",
     "output_type": "stream",
     "text": [
      "Sample 1 mean: 51.99, Sample 1 std: 8.57\n",
      "Sample 2 mean: 45.50, Sample 2 std: 8.25\n",
      "t-statistic: 5.45, p-value: 0.0000\n",
      "The difference in means is statistically significant at the 5% level.\n"
     ]
    }
   ],
   "source": [
    "import numpy as np\n",
    "from scipy.stats import ttest_ind\n",
    "\n",
    "# generate two samples with different means and standard deviations\n",
    "sample1 = np.random.normal(50, 10, size=100)\n",
    "sample2 = np.random.normal(45, 8, size=100)\n",
    "\n",
    "# calculate the sample means and standard deviations\n",
    "sample1_mean = np.mean(sample1)\n",
    "sample2_mean = np.mean(sample2)\n",
    "sample1_std = np.std(sample1, ddof=1)\n",
    "sample2_std = np.std(sample2, ddof=1)\n",
    "\n",
    "# conduct a two-sample t-test assuming unequal variances\n",
    "t_stat, p_val = ttest_ind(sample1, sample2, equal_var=False)\n",
    "\n",
    "# print the results\n",
    "print(f\"Sample 1 mean: {sample1_mean:.2f}, Sample 1 std: {sample1_std:.2f}\")\n",
    "print(f\"Sample 2 mean: {sample2_mean:.2f}, Sample 2 std: {sample2_std:.2f}\")\n",
    "print(f\"t-statistic: {t_stat:.2f}, p-value: {p_val:.4f}\")\n",
    "if p_val < 0.05:\n",
    "    print(\"The difference in means is statistically significant at the 5% level.\")\n",
    "else:\n",
    "    print(\"The difference in means is not statistically significant at the 5% level.\")"
   ]
  },
  {
   "cell_type": "markdown",
   "id": "45b2857f-02ca-4432-9b9c-621b35ef898b",
   "metadata": {},
   "source": [
    "### Q6: What is a null and alternative hypothesis? Give some examples."
   ]
  },
  {
   "cell_type": "markdown",
   "id": "10673167-112e-412b-8325-c2f048da024a",
   "metadata": {},
   "source": [
    "`Ans) The null hypothesis is the claim that there’s no effect in the population. If the sample provides enough evidence against the claim that there’s no effect in the population (p ≤ α), then we can reject the null hypothesis. Otherwise, we fail to reject the null hypothesis. In other words, the null hypothesis (i.e., that there is no effect) is assumed to be true until the sample provides enough evidence to reject it.`\n",
    "\n",
    "`Alternative hypothesis claims that there’s an effect in the population. In other words, it’s the claim that we expect or hope will be true.`\n",
    "\n",
    "`The alternative hypothesis is the complement to the null hypothesis. Null and alternative hypotheses are exhaustive, meaning that together they cover every possible outcome. They are also mutually exclusive, meaning that only one can be true at a time.`\n",
    "\n",
    "#### Example:\n",
    "\n",
    "**Research question: Does tooth flossing affect the number of cavities?**\n",
    "\n",
    "*Null hypothesis (H0): Tooth flossing has no effect on the number of cavities.*\n",
    "\n",
    "*Alternative hypothesis (Ha): Tooth flossing has an effect on the number of cavities.*"
   ]
  },
  {
   "cell_type": "markdown",
   "id": "dbb925b7-911e-4f09-8d89-0a5b6ffb5fd4",
   "metadata": {},
   "source": [
    "### Q7: Write down the steps involved in hypothesis testing."
   ]
  },
  {
   "cell_type": "markdown",
   "id": "512d95d4-69b4-4c30-9102-e1536e3cc2d2",
   "metadata": {},
   "source": [
    "`Ans) There are 5 main steps in hypothesis testing:`\n",
    "\n",
    "    - Step1: State your research hypothesis as a null hypothesis and alternate hypothesis (Ho) and (Ha or H1).\n",
    "\n",
    "    - Step2: Collect data in a way designed to test the hypothesis.\n",
    "\n",
    "    - Step3: Perform an appropriate statistical test.\n",
    "\n",
    "    - Step4: Decide whether to reject or fail to reject your null hypothesis.\n",
    "\n",
    "    - Step5: Present the findings in our results and discussion section."
   ]
  },
  {
   "cell_type": "markdown",
   "id": "86502ffe-91ed-4ac2-baa8-46fc568b885a",
   "metadata": {},
   "source": [
    "### Q8. Define p-value and explain its significance in hypothesis testing."
   ]
  },
  {
   "cell_type": "markdown",
   "id": "c7c8ec83-c38c-4b08-9022-aba878bb92f0",
   "metadata": {},
   "source": [
    "`Ans) In hypothesis testing, the p-value is the probability of obtaining a test statistic as extreme as, or more extreme than, the observed test statistic, assuming that the null hypothesis is true.`\n",
    "\n",
    "`The significance of the p-value in hypothesis testing is that it helps us decide whether to reject or fail to reject the null hypothesis. If the p-value is less than or equal to the level of significance (usually 0.05), then we reject the null hypothesis and conclude that there is evidence for the alternative hypothesis. On the other hand, if the p-value is greater than the level of significance, then we fail to reject the null hypothesis and conclude that there is not enough evidence to support the alternative hypothesis.`\n",
    "\n",
    "`For example, suppose we want to test the null hypothesis that the mean weight of apples is 100 grams against the alternative hypothesis that the mean weight of apples is greater than 100 grams. We collect a sample of apples and calculate a test statistic (such as a t-statistic) and its corresponding p-value. If the p-value is less than or equal to 0.05, then we reject the null hypothesis and conclude that the mean weight of apples is greater than 100 grams. If the p-value is greater than 0.05, then we fail to reject the null hypothesis and conclude that there is not enough evidence to support the alternative hypothesis.`\n",
    "\n",
    "`So, the p-value helps us make decisions about whether to reject or fail to reject the null hypothesis, based on the level of significance and the strength of evidence against the null hypothesis.`"
   ]
  },
  {
   "cell_type": "markdown",
   "id": "09af58e5-2b19-4eaa-b949-5626483eccc6",
   "metadata": {},
   "source": [
    "### Q9. Generate a Student's t-distribution plot using Python's matplotlib library, with the degrees of freedom parameter set to 10."
   ]
  },
  {
   "cell_type": "code",
   "execution_count": 4,
   "id": "0b98004d-36fe-473d-b969-60c9d0aaa0c5",
   "metadata": {},
   "outputs": [
    {
     "data": {
      "image/png": "[encoded data removed]",
      "text/plain": [
       "<Figure size 640x480 with 1 Axes>"
      ]
     },
     "metadata": {},
     "output_type": "display_data"
    }
   ],
   "source": [
    "import numpy as np\n",
    "import matplotlib.pyplot as plt\n",
    "from scipy.stats import t\n",
    "\n",
    "# Set the degrees of freedom and create a range of t-values\n",
    "df = 10\n",
    "t_values = np.linspace(-4, 4, 1000)\n",
    "\n",
    "# Calculate the probability density function (PDF) for each t-value\n",
    "t_pdf = t.pdf(t_values, df)\n",
    "\n",
    "# Plot the t-distribution using Matplotlib\n",
    "fig, ax = plt.subplots()\n",
    "ax.plot(t_values, t_pdf, linewidth=2, color='black')\n",
    "\n",
    "# Shade the areas in the tails of the distribution\n",
    "t_critical = t.ppf(0.025, df)\n",
    "ax.axvline(x=t_critical, linestyle='--', color='red')\n",
    "ax.fill_between(t_values, t_pdf, where=t_values <= -t_critical, color='red', alpha=0.1)\n",
    "ax.fill_between(t_values, t_pdf, where=t_values >= t_critical, color='red', alpha=0.1)\n",
    "\n",
    "# Set the title and labels for the plot\n",
    "ax.set_title(\"Student's t-Distribution (df=10)\")\n",
    "ax.set_xlabel(\"t\")\n",
    "ax.set_ylabel(\"PDF\")\n",
    "\n",
    "# Display the plot\n",
    "plt.show()"
   ]
  },
  {
   "cell_type": "markdown",
   "id": "af0d7a2c-2943-42f4-969d-fb59541265d9",
   "metadata": {},
   "source": [
    "`Here is a step-by-step explanation of the code:`\n",
    "\n",
    "1. We start by importing the required libraries: NumPy, Matplotlib, and the `t` function from the SciPy.stats module.\n",
    "\n",
    "2. We set the degrees of freedom parameter to 10 and create a range of t-values using the `linspace` function from NumPy. The range of t-values goes from -4 to 4, with 1000 points in between.\n",
    "\n",
    "3. We calculate the probability density function (PDF) of the t-distribution for each t-value in the range using the `pdf` function from the `t` module.\n",
    "\n",
    "4. We create a new figure and axis object using the `subplots` function from Matplotlib.\n",
    "\n",
    "5. We plot the t-distribution by calling the `plot` method on the axis object. We pass in the t-values on the x-axis and the PDF values on the y-axis. We set the line width to 2 and the color to black.\n",
    "\n",
    "6. We shade the areas in the tails of the distribution using the `axvline` and `fill_between` functions. We first calculate the critical t-value for a two-tailed test at a significance level of 0.05 using the `ppf` function from the `t` module. We then draw a vertical line at the critical t-value using the `axvline` method. We also fill in the regions under the curve where the t-values are less than or equal to the negative critical value or greater than or equal to the positive critical value using the `fill_between` function. We set the color to red and the alpha value to 0.1 to make the shading more transparent.\n",
    "\n",
    "7. We set the title and axis labels using the `set_title`, `set_xlabel`, and `set_ylabel` methods of the axis object.\n",
    "\n",
    "8. Finally, we call the `show` function to display the plot.\n",
    "\n",
    "`In summary, this code generates a plot of the Student's t-distribution with 10 degrees of freedom and shades the areas in the tails of the distribution that correspond to a two-tailed test at a significance level of 0.05. The plot shows the PDF values of the t-distribution for a range of t-values and indicates the critical t-values for rejecting the null hypothesis.`"
   ]
  },
  {
   "cell_type": "markdown",
   "id": "dc51bdc3-1ed6-448c-9ec8-ef7af8bd1d0d",
   "metadata": {},
   "source": [
    "### Q10. Write a Python program to calculate the two-sample t-test for independent samples, given two random samples of equal size and a null hypothesis that the population means are equal."
   ]
  },
  {
   "cell_type": "code",
   "execution_count": 5,
   "id": "6e4e95e8-7ad9-489b-89e7-e6022a0ef275",
   "metadata": {},
   "outputs": [
    {
     "name": "stdout",
     "output_type": "stream",
     "text": [
      "T-Statistic: -6.573\n",
      "P-Value: 0.000\n"
     ]
    }
   ],
   "source": [
    "import numpy as np\n",
    "from scipy.stats import t\n",
    "\n",
    "# Generate two random samples\n",
    "sample1 = np.random.normal(loc=10, scale=2, size=100)\n",
    "sample2 = np.random.normal(loc=12, scale=2, size=100)\n",
    "\n",
    "# Calculate the sample means and sample standard deviations\n",
    "mean1, mean2 = np.mean(sample1), np.mean(sample2)\n",
    "std1, std2 = np.std(sample1, ddof=1), np.std(sample2, ddof=1)\n",
    "\n",
    "# Calculate the standard error of the difference between means\n",
    "std_error = np.sqrt(std1**2 / len(sample1) + std2**2 / len(sample2))\n",
    "\n",
    "# Calculate the t-statistic\n",
    "t_statistic = (mean1 - mean2) / std_error\n",
    "\n",
    "# Calculate the degrees of freedom\n",
    "df = len(sample1) + len(sample2) - 2\n",
    "\n",
    "# Calculate the p-value using the cumulative distribution function of the t-distribution\n",
    "p_value = 2 * (1 - t.cdf(abs(t_statistic), df))\n",
    "\n",
    "# Print the results\n",
    "print(\"T-Statistic: {:.3f}\".format(t_statistic))\n",
    "print(\"P-Value: {:.3f}\".format(p_value))"
   ]
  },
  {
   "cell_type": "markdown",
   "id": "20615bf2-4b69-4753-8a40-5935e32799cc",
   "metadata": {},
   "source": [
    "`Here is an explanation of the code:`\n",
    "\n",
    "    We start by importing the required libraries: NumPy and the t function from the SciPy.stats module.\n",
    "\n",
    "    We generate two random samples using the normal function from NumPy. sample1 has a mean of 10 and a standard deviation of 2, while sample2 has a mean of 12 and a standard deviation of 2. Both samples have 100 observations.\n",
    "\n",
    "    We calculate the sample means and sample standard deviations for each sample using the mean and std functions from NumPy. We set the ddof argument to 1 in the std function to calculate the unbiased estimate of the standard deviation.\n",
    "\n",
    "`We calculate the standard error of the difference between means using the formula:`\n",
    "\n",
    "    std_error = sqrt(std1^2/n1 + std2^2/n2)\n",
    "\n",
    "where std1 and std2 are the sample standard deviations, n1 and n2 are the sample sizes, and sqrt denotes the square root function.\n",
    "\n",
    "`We calculate the t-statistic using the formula:`\n",
    "\n",
    "    t_statistic = (mean1 - mean2) / std_error\n",
    "\n",
    "where mean1 and mean2 are the sample means.\n",
    "\n",
    "`We calculate the degrees of freedom using the formula:`\n",
    "\n",
    "    df = n1 + n2 - 2\n",
    "\n",
    "    where n1 and n2 are the sample sizes.\n",
    "\n",
    "    We calculate the p-value using the cumulative distribution function of the t-distribution with df degrees of freedom. Since we are performing a two-sided test, we multiply the result by 2 to get the two-tailed p-value.\n",
    "\n",
    "    We print the results of the test using the print function. We format the output using the format method of the string object to display the t-statistic and p-value with three decimal places.\n",
    "\n",
    "`In summary, this code generates two random samples of equal size and calculates the two-sample t-test for independent samples assuming equal population variances. The results of the test are then printed to the console.`"
   ]
  },
  {
   "cell_type": "markdown",
   "id": "6430bd79-be46-48ff-9186-60b2346668ca",
   "metadata": {},
   "source": [
    "### Q11: What is Student’s t distribution? When to use the t-Distribution."
   ]
  },
  {
   "cell_type": "markdown",
   "id": "8bd2fb2a-a7ca-427d-82bc-9f53a0259707",
   "metadata": {},
   "source": [
    "`Ans) Student's t-distribution is a probability distribution that arises when the population standard deviation is unknown and must be estimated from sample data. It is used in hypothesis testing to determine if the means of two populations are significantly different.`\n",
    "\n",
    "`The t-distribution is similar in shape to the normal distribution, but with heavier tails. As the sample size increases, the t-distribution becomes closer to the normal distribution.`\n",
    "\n",
    "`The t-distribution is used in situations where the sample size is small or when the population standard deviation is unknown. It is commonly used when comparing the means of two samples, to determine if the difference between the means is statistically significant. It is also used in the construction of confidence intervals for population means.`"
   ]
  },
  {
   "cell_type": "markdown",
   "id": "d62eca4b-0e75-4021-affc-f7c41c77425d",
   "metadata": {},
   "source": [
    "### Q12: What is t-statistic? State the formula for t-statistic."
   ]
  },
  {
   "cell_type": "markdown",
   "id": "310a7962-64ca-4f3b-9649-90130fa820ae",
   "metadata": {},
   "source": [
    "`Ans) The t-statistic is a measure of how different the sample means of two groups are relative to the variation within each group. It is used in hypothesis testing to determine if the difference between the means of two samples is statistically significant.`\n",
    "\n",
    "`The formula for t-statistic is:`\n",
    "\n",
    "    t = (x1 - x2) / (s * sqrt(2/n))\n",
    "\n",
    "where:\n",
    "- x1 is the mean of the first sample\n",
    "- x2 is the mean of the second sample\n",
    "- s is the pooled standard deviation of the two samples\n",
    "- n is the size of each sample\n",
    "\n",
    "`The t-statistic compares the difference between the sample means (x1 - x2) to the variation within the samples (s * sqrt(2/n)). If the t-statistic is large, then the difference between the sample means is more than what would be expected by chance alone, and we can reject the null hypothesis of equal population means.`"
   ]
  },
  {
   "cell_type": "markdown",
   "id": "71e7505d-b7fe-4c37-a7bb-d48ac11fb0da",
   "metadata": {},
   "source": [
    "### Q13. A coffee shop owner wants to estimate the average daily revenue for their shop. They take a random sample of 50 days and find the sample mean revenue to be $500 with a standard deviation of 50. Estimate the population mean revenue with a 95% confidence interval."
   ]
  },
  {
   "cell_type": "markdown",
   "id": "a4eb2c47-d32b-4ba1-850a-d61fc8ea3641",
   "metadata": {},
   "source": [
    "`Ans) To estimate the population mean revenue with a 95% confidence interval, we can use the following formula:`\n",
    "\n",
    "    Confidence interval = sample mean +/- (t-value * standard error)\n",
    "\n",
    "**where the t-value is based on the level of confidence and the degrees of freedom (df = n - 1), and the standard error is the standard deviation of the sample divided by the square root of the sample size.**\n",
    "\n",
    "`Assuming a normal distribution and a sample size of 50, we can find the t-value for a 95% confidence interval and 49 degrees of freedom using a t-table or a statistical software. The t-value is approximately 2.009.`\n",
    "\n",
    "`The standard error can be calculated as:`\n",
    "\n",
    "    standard error = standard deviation / sqrt(sample size)\n",
    "    standard error = 50 / sqrt(50)\n",
    "    standard error = 7.07\n",
    "\n",
    "`Substituting the values into the formula, we get:`\n",
    "\n",
    "    Confidence interval = 500 +/- (2.009 * 7.07)\n",
    "    Confidence interval = 500 +/- 14.20\n",
    "\n",
    "`Therefore, the 95% confidence interval for the population mean revenue is between $485.80 and $514.20. We can be 95% confident that the true population mean revenue falls within this range based on the given sample.`"
   ]
  },
  {
   "cell_type": "code",
   "execution_count": 6,
   "id": "9c864f1e-b5ca-4c7e-9207-efedcc7c312e",
   "metadata": {},
   "outputs": [
    {
     "name": "stdout",
     "output_type": "stream",
     "text": [
      "The 95% confidence interval for the population mean revenue is ($485.79, $514.21)\n"
     ]
    }
   ],
   "source": [
    "import scipy.stats as stats\n",
    "import math\n",
    "\n",
    "# Given data\n",
    "n = 50\n",
    "sample_mean = 500\n",
    "sample_std = 50\n",
    "\n",
    "# Calculate the t-value for a 95% confidence interval and 49 degrees of freedom\n",
    "t_value = stats.t.ppf(0.975, df=n-1)\n",
    "\n",
    "# Calculate the standard error\n",
    "std_error = sample_std / math.sqrt(n)\n",
    "\n",
    "# Calculate the confidence interval\n",
    "lower_ci = sample_mean - t_value * std_error\n",
    "upper_ci = sample_mean + t_value * std_error\n",
    "\n",
    "# Print the results\n",
    "print(\"The 95% confidence interval for the population mean revenue is (${:.2f}, ${:.2f})\".format(lower_ci, upper_ci))"
   ]
  },
  {
   "cell_type": "markdown",
   "id": "6f456740-6564-4287-9e0a-c712b5ffbaa9",
   "metadata": {},
   "source": [
    "### Q14. A researcher hypothesizes that a new drug will decrease blood pressure by 10 mmHg. They conduct a clinical trial with 100 patients and find that the sample mean decrease in blood pressure is 8 mmHg with a standard deviation of 3 mmHg. Test the hypothesis with a significance level of 0.05."
   ]
  },
  {
   "cell_type": "markdown",
   "id": "67ff34a5-8a55-4f28-8ca4-7c2c38b3953d",
   "metadata": {},
   "source": [
    "`Ans) First, we need to state the null and alternative hypotheses:`\n",
    "\n",
    "- Null hypothesis (H0): The new drug does not decrease blood pressure by 10 mmHg.\n",
    "- Alternative hypothesis (Ha): The new drug decreases blood pressure by 10 mmHg.\n",
    "\n",
    "`We will use a significance level of 0.05, which means we will reject the null hypothesis if the p-value is less than 0.05.`\n",
    "\n",
    "`The test statistic for this hypothesis test is the t-statistic, which is calculated as:`\n",
    "\n",
    "    t = (sample_mean - hypothesized_mean) / (sample_std / sqrt(n))\n",
    "\n",
    "**where sample_mean is the sample mean (8 mmHg), hypothesized_mean is the hypothesized mean decrease in blood pressure (10 mmHg), sample_std is the sample standard deviation (3 mmHg), and n is the sample size (100).**"
   ]
  },
  {
   "cell_type": "code",
   "execution_count": 7,
   "id": "7f2cccc4-38bd-4a4d-bc93-9c2cae46dc7b",
   "metadata": {},
   "outputs": [
    {
     "name": "stdout",
     "output_type": "stream",
     "text": [
      "t_value: -6.666666666666667\n",
      "p-value: 1.5012289009970215e-09\n",
      "Reject the null hypothesis\n"
     ]
    }
   ],
   "source": [
    "import numpy as np\n",
    "from scipy.stats import t\n",
    "\n",
    "# Sample size\n",
    "n = 100\n",
    "\n",
    "# Sample mean and standard deviation\n",
    "x_bar = 8\n",
    "s = 3\n",
    "\n",
    "# Hypothesized population mean\n",
    "mu = 10\n",
    "\n",
    "# Degrees of freedom\n",
    "df = n - 1\n",
    "\n",
    "# Calculate the t-value\n",
    "t_value = (x_bar - mu) / (s / np.sqrt(n))\n",
    "print(\"t_value:\", t_value)\n",
    "\n",
    "# Calculate the p-value\n",
    "p_value = t.sf(np.abs(t_value), df) * 2\n",
    "print(\"p-value:\", p_value)\n",
    "\n",
    "# Check if p-value is less than significance level\n",
    "alpha = 0.05\n",
    "if p_value < alpha:\n",
    "    print(\"Reject the null hypothesis\")\n",
    "else:\n",
    "    print(\"Fail to reject the null hypothesis\")"
   ]
  },
  {
   "cell_type": "markdown",
   "id": "5fb27031-f6a8-4e6f-ab6a-7a7f7650da92",
   "metadata": {},
   "source": [
    "`Therefore, we can conclude that there is sufficient evidence to suggest that the new drug decreases blood pressure by 10 mmHg based on the given sample.`"
   ]
  },
  {
   "cell_type": "markdown",
   "id": "c9724354-eb4a-4849-9293-77522558002d",
   "metadata": {},
   "source": [
    "### Q15. An electronics company produces a certain type of product with a mean weight of 5 pounds and a standard deviation of 0.5 pounds. A random sample of 25 products is taken, and the sample mean weight is found to be 4.8 pounds. Test the hypothesis that the true mean weight of the products is less than 5 pounds with a significance level of 0.01."
   ]
  },
  {
   "cell_type": "markdown",
   "id": "ad4f4e7f-a49d-4cb2-b7e0-fe8b34ea5741",
   "metadata": {},
   "source": [
    "`Ans) To test the hypothesis that the true mean weight of the products is less than 5 pounds, we can use a one-tailed t-test with the null hypothesis:`\n",
    "\n",
    "    H0: mu = 5 (the true mean weight is equal to 5 pounds)\n",
    "\n",
    "`and the alternative hypothesis:`\n",
    "\n",
    "    Ha: mu < 5 (the true mean weight is less than 5 pounds)\n",
    "\n",
    "**where mu is the population mean weight of the products.**\n",
    "\n",
    "`Given a sample of 25 products with a sample mean weight of 4.8 pounds, we can calculate the t-statistic as follows:`\n",
    "\n",
    "    t_stat = (sample_mean - hypothesized_mean) / (sample_std / sqrt(sample_size))\n",
    "\n",
    "**where sample_mean is the sample mean weight, hypothesized_mean is the hypothesized mean weight under the null hypothesis (which is 5 pounds), sample_std is the sample standard deviation, and sample_size is the sample size.**\n",
    "\n",
    "`Substituting the values, we get:`\n",
    "\n",
    "    t_stat = (4.8 - 5) / (0.5 / sqrt(25))\n",
    "    t_stat = -2\n",
    "\n",
    "`To test whether this t-statistic is significant at a significance level of 0.01, we need to find the critical t-value with 24 degrees of freedom (since we have a sample size of 25 and one parameter estimated, we have 25 - 1 = 24 degrees of freedom). We can do this using the `t.ppf()` function from the `scipy.stats` module as follows:`\n",
    "\n",
    "    t_crit = t.ppf(0.01, df=24)\n",
    "\n",
    "`This gives us a critical t-value of -2.492. Since the absolute value of calculated t-statistic (-2) is lesser than the absolute critical t-value (-2.492), we fail to reject the null hypothesis and conclude that there is not evidence that the true mean weight of the products is less than 5 pounds at a significance level of 0.01.`"
   ]
  },
  {
   "cell_type": "code",
   "execution_count": 8,
   "id": "a72e4302-2ec2-436f-a080-84073f7c8a66",
   "metadata": {},
   "outputs": [
    {
     "name": "stdout",
     "output_type": "stream",
     "text": [
      "t_value: -2.0000000000000018\n",
      "t_crit: -2.4921594731575762\n",
      "p-value: 0.02846992496829572\n",
      "Fail to reject the null hypothesis.\n"
     ]
    }
   ],
   "source": [
    "import math\n",
    "from scipy.stats import t\n",
    "\n",
    "# Given data\n",
    "mu = 5  # Population mean\n",
    "sigma = 0.5  # Population standard deviation\n",
    "n = 25  # Sample size\n",
    "x_bar = 4.8  # Sample mean\n",
    "\n",
    "# Significance level and degrees of freedom\n",
    "alpha = 0.01\n",
    "df = n - 1\n",
    "\n",
    "# Calculate the test statistic\n",
    "SE = sigma / math.sqrt(n)  # Standard error of the mean\n",
    "t_stat = (x_bar - mu) / SE\n",
    "print(\"t_value:\", t_stat)\n",
    "\n",
    "# Calculate the critical value\n",
    "t_crit = t.ppf(0.01, df=24)\n",
    "print(\"t_crit:\", t_crit)\n",
    "\n",
    "# Calculate the p-value\n",
    "p_val = t.cdf(t_stat, df)\n",
    "print(\"p-value:\", p_val)\n",
    "\n",
    "# Determine if the null hypothesis is rejected\n",
    "if t_stat < t_crit:\n",
    "    print(\"Reject the null hypothesis.\")\n",
    "else:\n",
    "    print(\"Fail to reject the null hypothesis.\")"
   ]
  },
  {
   "cell_type": "markdown",
   "id": "46bc4a4f-6453-4bd0-995d-ec12efa028ee",
   "metadata": {},
   "source": [
    "### Q16. Two groups of students are given different study materials to prepare for a test. The first group (n1 = 30) has a mean score of 80 with a standard deviation of 10, and the second group (n2 = 40) has a mean score of 75 with a standard deviation of 8. Test the hypothesis that the population means for the two groups are equal with a significance level of 0.01."
   ]
  },
  {
   "cell_type": "markdown",
   "id": "b93da739-aced-4233-b198-fc31f3892ba3",
   "metadata": {},
   "source": [
    "`Ans) To test the hypothesis that the population means for the two groups are equal, we can use a two-sample t-test for independent samples. The null and alternative hypotheses are:`\n",
    "\n",
    "- Null hypothesis (H0): μ1 = μ2\n",
    "- Alternative hypothesis (Ha): μ1 ≠ μ2\n",
    "\n",
    "**where μ1 is the population mean for the first group, and μ2 is the population mean for the second group.**\n",
    "\n",
    "`We can use the following steps to conduct the hypothesis test:`\n",
    "\n",
    "`Step 1: Set the significance level`\n",
    "*In this case, the significance level is 0.01.*\n",
    "\n",
    "`Step 2: Calculate the test statistic`\n",
    "*We can calculate the test statistic using the formula:*\n",
    "\n",
    "    t = (x̄1 - x̄2) / sqrt[(s1^2/n1) + (s2^2/n2)]\n",
    "\n",
    "**where x̄1 and x̄2 are the sample means, s1 and s2 are the sample standard deviations, and n1 and n2 are the sample sizes.**\n",
    "\n",
    "`Substituting the values, we get:`\n",
    "\n",
    "    t = (80 - 75) / sqrt[(10^2/30) + (8^2/40)] = 2.32\n",
    "\n",
    "`Step 3: Determine the critical value`\n",
    "*Since this is a two-tailed test with a significance level of 0.01, the critical values are -2.65 and 2.65.*\n",
    "\n",
    "`Step 4: Compare the test statistic with the critical value`\n",
    "*Since the absolute value of the test statistic (2.32) is lesser than the critical value (2.65), we fail to reject the null hypothesis.*\n",
    "\n",
    "`Step 5: Interpret the results`\n",
    "*We can conclude that there is sufficient evidence to suggest that the population means for the two groups are equal.*\n",
    "\n",
    "`Therefore, we fail to reject the null hypothesis (H0: μ1 = μ2) and reject the alternative hypothesis (Ha: μ1 ≠ μ2) at a significance level of 0.01. This means that there is sufficient evidence to suggest that the population means for the two groups are equal.`"
   ]
  },
  {
   "cell_type": "code",
   "execution_count": 9,
   "id": "7d64489e-a417-4c68-93c2-cf3f5d836767",
   "metadata": {},
   "outputs": [
    {
     "name": "stdout",
     "output_type": "stream",
     "text": [
      "Sample 1: n = 30, x = 80, s = 10\n",
      "Sample 2: n = 40, x = 75, s = 8\n",
      "Degrees of freedom: 68\n",
      "Test statistic: 2.32\n",
      "Critical value: -2.65\n",
      "p-value: 0.0231\n",
      "Fail to reject the null hypothesis that the population means are equal.\n"
     ]
    }
   ],
   "source": [
    "import numpy as np\n",
    "from scipy.stats import t\n",
    "\n",
    "# Sample data\n",
    "n1 = 30\n",
    "x1 = 80\n",
    "s1 = 10\n",
    "\n",
    "n2 = 40\n",
    "x2 = 75\n",
    "s2 = 8\n",
    "\n",
    "# Calculate the test statistic\n",
    "s_p = np.sqrt(((n1 - 1) * s1 ** 2 + (n2 - 1) * s2 ** 2) / (n1 + n2 - 2))\n",
    "t_stat = (x1 - x2) / (s_p * np.sqrt(1 / n1 + 1 / n2))\n",
    "\n",
    "# Find the critical value\n",
    "alpha = 0.01\n",
    "df = n1 + n2 - 2\n",
    "t_crit = t.ppf(alpha/2, df)\n",
    "\n",
    "# Calculate the p-value\n",
    "p_value = 2 * t.cdf(-np.abs(t_stat), df)\n",
    "\n",
    "# Print the results\n",
    "print(\"Sample 1: n = {}, x = {}, s = {}\".format(n1, x1, s1))\n",
    "print(\"Sample 2: n = {}, x = {}, s = {}\".format(n2, x2, s2))\n",
    "print(\"Degrees of freedom: {}\".format(df))\n",
    "print(\"Test statistic: {:.2f}\".format(t_stat))\n",
    "print(\"Critical value: {:.2f}\".format(t_crit))\n",
    "print(\"p-value: {:.4f}\".format(p_value))\n",
    "\n",
    "if t_stat < t_crit:\n",
    "    print(\"Reject the null hypothesis that the population means are equal.\")\n",
    "else:\n",
    "    print(\"Fail to reject the null hypothesis that the population means are equal.\")"
   ]
  },
  {
   "cell_type": "markdown",
   "id": "6078552f-46a6-48fc-a217-787d5786016b",
   "metadata": {},
   "source": [
    "### Q17. A marketing company wants to estimate the average number of ads watched by viewers during a TV program. They take a random sample of 50 viewers and find that the sample mean is 4 with a standard deviation of 1.5. Estimate the population mean with a 99% confidence interval."
   ]
  },
  {
   "cell_type": "markdown",
   "id": "0088af84-2daa-4654-8fe7-915e61f91a46",
   "metadata": {},
   "source": [
    "`Ans) To estimate the population mean with a 99% confidence interval, we can use the following formula:`\n",
    "\n",
    "    confidence interval = sample mean ± z-score x (standard deviation / square root of sample size)\n",
    "\n",
    "**Where:**\n",
    "- sample mean = 4\n",
    "- standard deviation = 1.5\n",
    "- sample size = 50\n",
    "- z-score for a 99% confidence level is 2.576 (obtained from a standard normal distribution table)\n",
    "\n",
    "`Plugging in the values, we get:`\n",
    "\n",
    "    confidence interval = 4 ± 2.576 x (1.5 / sqrt(50))\n",
    "    confidence interval = 4 ± 0.544\n",
    "\n",
    "`Therefore, the 99% confidence interval for the average number of ads watched by viewers during a TV program is (3.456, 4.544). We can say with 99% confidence that the true population mean falls within this range.`"
   ]
  },
  {
   "cell_type": "code",
   "execution_count": 10,
   "id": "35148786-aada-42ab-a47c-cde840530bd3",
   "metadata": {},
   "outputs": [
    {
     "name": "stdout",
     "output_type": "stream",
     "text": [
      "The 99% confidence interval for the population mean is: (3.45, 4.55)\n"
     ]
    }
   ],
   "source": [
    "import math\n",
    "\n",
    "sample_mean = 4\n",
    "sample_std = 1.5\n",
    "n = 50\n",
    "z_score = 2.576 # for a 99% confidence level\n",
    "\n",
    "margin_of_error = z_score * (sample_std / math.sqrt(n))\n",
    "lower_bound = sample_mean - margin_of_error\n",
    "upper_bound = sample_mean + margin_of_error\n",
    "\n",
    "print(\"The 99% confidence interval for the population mean is: ({:.2f}, {:.2f})\".format(lower_bound, upper_bound))"
   ]
  }
 ],
 "metadata": {
  "kernelspec": {
   "display_name": "Python 3 (ipykernel)",
   "language": "python",
   "name": "python3"
  },
  "language_info": {
   "codemirror_mode": {
    "name": "ipython",
    "version": 3
   },
   "file_extension": ".py",
   "mimetype": "text/x-python",
   "name": "python",
   "nbconvert_exporter": "python",
   "pygments_lexer": "ipython3",
   "version": "3.10.8"
  }
 },
 "nbformat": 4,
 "nbformat_minor": 5
}
