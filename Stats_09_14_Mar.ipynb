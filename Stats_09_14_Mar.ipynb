{
 "cells": [
  {
   "cell_type": "markdown",
   "id": "23ed63aa-f952-4420-b2c6-fa5b2fde6ce5",
   "metadata": {},
   "source": [
    "## Statistics Advance Assignment - 7\n",
    "***By Shahequa Modabbera***"
   ]
  },
  {
   "cell_type": "markdown",
   "id": "c57d196e-65d4-452f-a7d6-b2dfcedbe7bd",
   "metadata": {},
   "source": [
    "### Q1. Write a Python function that takes in two arrays of data and calculates the F-value for a variance ratio test. The function should return the F-value and the corresponding p-value for the test."
   ]
  },
  {
   "cell_type": "code",
   "execution_count": 1,
   "id": "97c866d4-5be5-4b8a-9fd6-b3505a44f74e",
   "metadata": {},
   "outputs": [],
   "source": [
    "import scipy.stats as stats\n",
    "import numpy as np\n",
    "\n",
    "def variance_ratio_test(data1, data2):\n",
    "    # Calculate the variances\n",
    "    var1 = np.var(data1, ddof=1)\n",
    "    var2 = np.var(data2, ddof=1)\n",
    "\n",
    "    # Calculate the F-value and p-value\n",
    "    f_value = var1 / var2\n",
    "    df1 = len(data1) - 1\n",
    "    df2 = len(data2) - 1\n",
    "    p_value = stats.f.sf(f_value, df1, df2)\n",
    "\n",
    "    return f_value, p_value"
   ]
  },
  {
   "cell_type": "markdown",
   "id": "ceda909a-9c8e-4890-bdc8-9d6021e3e8b4",
   "metadata": {},
   "source": [
    "In this function:\n",
    "- `data1` and `data2` are the input arrays of data.\n",
    "- `np.var` is used to calculate the sample variances with `ddof=1` to account for the degrees of freedom correction.\n",
    "- `f_value` is calculated as the ratio of the variances (`var1 / var2`).\n",
    "- `df1` and `df2` represent the degrees of freedom, which are calculated as the length of each data array minus 1.\n",
    "- `stats.f.sf` is used to calculate the survival function (1 - cumulative distribution function) for the F-distribution, giving the p-value.\n",
    "\n",
    "You can use this function by passing your data arrays to it, like this:"
   ]
  },
  {
   "cell_type": "code",
   "execution_count": 2,
   "id": "e06c9dcc-b6dc-4a35-b103-d4ea016d81e4",
   "metadata": {},
   "outputs": [
    {
     "name": "stdout",
     "output_type": "stream",
     "text": [
      "F-value: 0.25\n",
      "p-value: 0.896\n"
     ]
    }
   ],
   "source": [
    "data1 = [1, 2, 3, 4, 5]\n",
    "data2 = [2, 4, 6, 8, 10]\n",
    "\n",
    "f_value, p_value = variance_ratio_test(data1, data2)\n",
    "print(\"F-value:\", f_value)\n",
    "print(\"p-value:\", p_value)"
   ]
  },
  {
   "cell_type": "markdown",
   "id": "089c7d02-92f4-4be2-b860-1479c03933e6",
   "metadata": {},
   "source": [
    "### Q2. Given a significance level of 0.05 and the degrees of freedom for the numerator and denominator of an F-distribution, write a Python function that returns the critical F-value for a two-tailed test."
   ]
  },
  {
   "cell_type": "markdown",
   "id": "297eefbd-7519-40d0-950b-25c4dc3fdd26",
   "metadata": {},
   "source": [
    "Ans) Python function that calculates the critical F-value for a two-tailed test given a significance level and the degrees of freedom for the numerator and denominator:\n",
    "\n",
    "You can use this function by calling it with the desired significance level and degrees of freedom, like this:\n",
    "\n",
    "This will output the critical F-value for the given significance level and degrees of freedom."
   ]
  },
  {
   "cell_type": "code",
   "execution_count": 3,
   "id": "e3535500-b33e-45c8-8d12-681b01e86154",
   "metadata": {},
   "outputs": [],
   "source": [
    "import scipy.stats as stats\n",
    "\n",
    "def critical_f_value(alpha, df_num, df_denom):\n",
    "    # Calculate the critical F-value\n",
    "    critical_value = stats.f.ppf(1 - alpha/2, df_num, df_denom)\n",
    "    \n",
    "    return critical_value"
   ]
  },
  {
   "cell_type": "markdown",
   "id": "5a37ceaf-a9af-41f2-bbf9-c4740eadc7b3",
   "metadata": {},
   "source": [
    "In this function:\n",
    "- `alpha` is the significance level, typically set to 0.05 for a 95% confidence level.\n",
    "- `df_num` represents the degrees of freedom for the numerator (the group or treatment).\n",
    "- `df_denom` represents the degrees of freedom for the denominator (the error or residual).\n",
    "\n",
    "The function uses `stats.f.ppf` from the `scipy.stats` module to calculate the percent-point function (inverse of the cumulative distribution function) for the F-distribution. By passing `1 - alpha/2` as the probability argument, we obtain the critical value that cuts off the upper tail area for a two-tailed test.\n",
    "\n",
    "We can use this function by calling it with the desired significance level and degrees of freedom.\n",
    "\n",
    "This will output the critical F-value for the given significance level and degrees of freedom."
   ]
  },
  {
   "cell_type": "code",
   "execution_count": 4,
   "id": "cee636df-c88f-4645-ba2b-a379975f2538",
   "metadata": {},
   "outputs": [
    {
     "name": "stdout",
     "output_type": "stream",
     "text": [
      "Critical F-value: 3.8586986662732143\n"
     ]
    }
   ],
   "source": [
    "alpha = 0.05\n",
    "df_num = 3\n",
    "df_denom = 20\n",
    "\n",
    "critical_value = critical_f_value(alpha, df_num, df_denom)\n",
    "print(\"Critical F-value:\", critical_value)"
   ]
  },
  {
   "cell_type": "markdown",
   "id": "bafa99a7-2095-405d-a8b2-ecb7583f52b5",
   "metadata": {},
   "source": [
    "### Q3. Write a Python program that generates random samples from two normal distributions with known variances and uses an F-test to determine if the variances are equal. The program should output the F-value, degrees of freedom, and p-value for the test."
   ]
  },
  {
   "cell_type": "code",
   "execution_count": 5,
   "id": "45eb630e-a26a-4d55-bfd2-016ca80bc06d",
   "metadata": {},
   "outputs": [
    {
     "name": "stdout",
     "output_type": "stream",
     "text": [
      "F-value: 0.7127215864960785\n",
      "Degrees of Freedom (numerator, denominator): 49 49\n",
      "p-value: 0.8803040890319981\n"
     ]
    }
   ],
   "source": [
    "import numpy as np\n",
    "from scipy.stats import f\n",
    "\n",
    "# Set random seed for reproducibility\n",
    "np.random.seed(42)\n",
    "\n",
    "# Generate random samples from two normal distributions\n",
    "sample_size_1 = 50\n",
    "sample_size_2 = 50\n",
    "mean_1 = 0\n",
    "mean_2 = 0\n",
    "variance_1 = 5\n",
    "variance_2 = 8\n",
    "\n",
    "sample_1 = np.random.normal(mean_1, np.sqrt(variance_1), sample_size_1)\n",
    "sample_2 = np.random.normal(mean_2, np.sqrt(variance_2), sample_size_2)\n",
    "\n",
    "# Calculate the F-value and p-value\n",
    "f_value = np.var(sample_1, ddof=1) / np.var(sample_2, ddof=1)\n",
    "df_numerator = sample_size_1 - 1\n",
    "df_denominator = sample_size_2 - 1\n",
    "p_value = 1 - f.cdf(f_value, df_numerator, df_denominator)\n",
    "\n",
    "# Output the results\n",
    "print('F-value:', f_value)\n",
    "print('Degrees of Freedom (numerator, denominator):', df_numerator, df_denominator)\n",
    "print('p-value:', p_value)"
   ]
  },
  {
   "cell_type": "markdown",
   "id": "165e9e45-e214-4b73-8b9e-71dbedf1bb7d",
   "metadata": {},
   "source": [
    "### Q4.The variances of two populations are known to be 10 and 15. A sample of 12 observations is taken from each population. Conduct an F-test at the 5% significance level to determine if the variances are significantly different."
   ]
  },
  {
   "cell_type": "code",
   "execution_count": 6,
   "id": "78623f72-e48d-4a6c-b734-ec682ab55191",
   "metadata": {},
   "outputs": [
    {
     "name": "stdout",
     "output_type": "stream",
     "text": [
      "F-value: 0.6666666666666666\n",
      "P-value: 0.7438051006321003\n",
      "The variances are not significantly different.\n"
     ]
    }
   ],
   "source": [
    "from scipy.stats import f\n",
    "\n",
    "alpha = 0.05\n",
    "\n",
    "variance_1 = 10\n",
    "variance_2 = 15\n",
    "sample_size_1 = 12\n",
    "sample_size_2 = 12\n",
    "\n",
    "f_value = variance_1 / variance_2\n",
    "print(\"F-value:\", f_value)\n",
    "\n",
    "df_numerator = sample_size_1 - 1\n",
    "df_denominator = sample_size_2 - 1\n",
    "\n",
    "p_value = 1 - f.cdf(f_value, df_numerator, df_denominator)\n",
    "print(\"P-value:\", p_value)\n",
    "\n",
    "if p_value < alpha:\n",
    "    print(\"The variances are significantly different.\")\n",
    "else:\n",
    "    print(\"The variances are not significantly different.\")"
   ]
  },
  {
   "cell_type": "markdown",
   "id": "658eaac6-663c-4e25-b9f3-282c3c5a3736",
   "metadata": {},
   "source": [
    "### Q5. A manufacturer claims that the variance of the diameter of a certain product is 0.005. A sample of 25 products is taken, and the sample variance is found to be 0.006. Conduct an F-test at the 1% significance level to determine if the claim is justified."
   ]
  },
  {
   "cell_type": "code",
   "execution_count": 7,
   "id": "b7b019a4-02a1-4554-b585-2223078811c4",
   "metadata": {},
   "outputs": [
    {
     "name": "stdout",
     "output_type": "stream",
     "text": [
      "The claim about the variance is justified.\n"
     ]
    }
   ],
   "source": [
    "# Import the necessary libraries:\n",
    "from scipy.stats import f\n",
    "\n",
    "# Set the significance level:\n",
    "alpha = 0.01\n",
    "\n",
    "# Define the claim variance and the sample variance:\n",
    "claim_variance = 0.005\n",
    "sample_variance = 0.006\n",
    "\n",
    "# Calculate the F-value:\n",
    "f_value = sample_variance / claim_variance\n",
    "\n",
    "# Calculate the degrees of freedom:\n",
    "df_numerator = 24\n",
    "df_denominator = 24\n",
    "\n",
    "# Calculate the p-value:\n",
    "p_value = 1 - f.cdf(f_value, df_numerator, df_denominator)\n",
    "\n",
    "# Compare the p-value to the significance level:\n",
    "if p_value < alpha:\n",
    "    print(\"The claim about the variance is not justified.\")\n",
    "else:\n",
    "    print(\"The claim about the variance is justified.\")"
   ]
  },
  {
   "cell_type": "markdown",
   "id": "0ab14d76-588e-4c55-b152-9ce989eb8290",
   "metadata": {},
   "source": [
    "### Q6. Write a Python function that takes in the degrees of freedom for the numerator and denominator of an F-distribution and calculates the mean and variance of the distribution. The function should return the mean and variance as a tuple."
   ]
  },
  {
   "cell_type": "code",
   "execution_count": 8,
   "id": "ffdd67b8-d73c-424e-866d-b715bc9e565a",
   "metadata": {},
   "outputs": [
    {
     "name": "stdout",
     "output_type": "stream",
     "text": [
      "Mean: 0.625\n",
      "Variance: 1.3541666666666667\n"
     ]
    }
   ],
   "source": [
    "def calculat_f_distribution(df_numerator, df_denominator):\n",
    "    # Calculate the mean of the F-distribution\n",
    "    mean = df_numerator / (df_denominator - 2)\n",
    "    \n",
    "    # Calculate the variance of the F-distribution\n",
    "    variance = (2 * (df_denominator**2) * (df_numerator + df_denominator - 2)) / ((df_numerator * (df_denominator - 2)**2 * (df_denominator - 4)))\n",
    "    \n",
    "    return mean, variance\n",
    "\n",
    "df_numerator = 5\n",
    "df_denominator = 10\n",
    "\n",
    "mean, variance = calculat_f_distribution(df_numerator, df_denominator)\n",
    "\n",
    "print(\"Mean:\", mean)\n",
    "print(\"Variance:\", variance)"
   ]
  },
  {
   "cell_type": "markdown",
   "id": "3c3707ea-6ae2-4241-8256-03a7f073143a",
   "metadata": {},
   "source": [
    "### Q7. A random sample of 10 measurements is taken from a normal population with unknown variance. The sample variance is found to be 25. Another random sample of 15 measurements is taken from another normal population with unknown variance, and the sample variance is found to be 20. Conduct an F-test at the 10% significance level to determine if the variances are significantly different."
   ]
  },
  {
   "cell_type": "markdown",
   "id": "aaa77382-ad59-4cc4-bf23-5f12176484a9",
   "metadata": {},
   "source": [
    "To conduct an F-test to compare the variances of two populations, we can follow these steps:\n",
    "\n",
    "1. Set up the hypotheses:\n",
    "   - Null hypothesis (H0): The variances of the two populations are equal.\n",
    "   - Alternative hypothesis (H1): The variances of the two populations are significantly different.\n",
    "\n",
    "2. Choose the significance level (α). In this case, α = 0.10.\n",
    "\n",
    "3. Calculate the F-statistic:\n",
    "   - F-statistic = Sample Variance 1 / Sample Variance 2\n",
    "\n",
    "4. Determine the critical F-value based on the degrees of freedom and the significance level. The degrees of freedom for the numerator (df1) is the sample size minus 1, and the degrees of freedom for the denominator (df2) is also the sample size minus 1.\n",
    "\n",
    "5. Compare the calculated F-statistic with the critical F-value:\n",
    "   - If the calculated F-statistic is greater than the critical F-value, reject the null hypothesis. There is evidence to suggest that the variances are significantly different.\n",
    "   - If the calculated F-statistic is less than or equal to the critical F-value, fail to reject the null hypothesis. There is not enough evidence to conclude that the variances are significantly different."
   ]
  },
  {
   "cell_type": "code",
   "execution_count": 9,
   "id": "d2776c6c-cc02-447d-b298-f4c4ed67fd9b",
   "metadata": {},
   "outputs": [
    {
     "name": "stdout",
     "output_type": "stream",
     "text": [
      "F-statistic: 1.25\n",
      "Critical f-value: 2.6457907352338195\n",
      "Fail to reject the null hypothesis. The variances are not significantly different.\n"
     ]
    }
   ],
   "source": [
    "import scipy.stats as stats\n",
    "\n",
    "# sample variances\n",
    "sample_var1 = 25\n",
    "sample_var2 = 20\n",
    "\n",
    "# Sample sizes\n",
    "n1 = 10\n",
    "n2 = 15\n",
    "\n",
    "# Degrees of freedom\n",
    "df1 = n1 - 1\n",
    "df2 = n2 - 1\n",
    "\n",
    "# Calculate the F-statistic\n",
    "f_statistic = sample_var1 / sample_var2\n",
    "print(\"F-statistic:\", f_statistic)\n",
    "\n",
    "# Calculate the critical F-value\n",
    "alpha = 0.10\n",
    "critical_f_value = stats.f.ppf(1-alpha / 2, df1, df2)\n",
    "print(\"Critical f-value:\", critical_f_value)\n",
    "\n",
    "# Perdorm the F-test\n",
    "if f_statistic > critical_f_value:\n",
    "    print(\"Reject the null hypothesis. The variances are significantly different.\")\n",
    "else:\n",
    "    print(\"Fail to reject the null hypothesis. The variances are not significantly different.\")"
   ]
  },
  {
   "cell_type": "markdown",
   "id": "44c9f984-b17c-439d-bda7-adeb25692c85",
   "metadata": {},
   "source": [
    "In this case, the calculated F-statistic is 1.25, and the critical F-value at the 10% significance level with (df1=9, df2=14) degrees of freedom is approximately 2.65. Since the calculated F-statistic is less than the critical F-value, we fail to reject the null hypothesis. Therefore, there is not enough evidence to conclude that the variances of the two populations are significantly different at the 10% significance level."
   ]
  },
  {
   "cell_type": "markdown",
   "id": "f9502ca6-b2a6-440d-8e63-3fe180f6ea45",
   "metadata": {},
   "source": [
    "### Q8. The following data represent the waiting times in minutes at two different restaurants on a Saturday night: \n",
    "### Restaurant A: 24, 25, 28, 23, 22, 20, 27; \n",
    "### Restaurant B: 31, 33, 35, 30, 32, 36. \n",
    "### Conduct an F-test at the 5% significance level to determine if the variances are significantly different."
   ]
  },
  {
   "cell_type": "markdown",
   "id": "fe321b28-7676-49dc-aa6a-e3414f52cf6d",
   "metadata": {},
   "source": [
    "Ans) To conduct an F-test to compare the variances of two restaurants, we can follow these steps:\n",
    "\n",
    "1. Set up the hypotheses:\n",
    "   - Null hypothesis (H0): The variances of the two populations are equal.\n",
    "   - Alternative hypothesis (H1): The variances of the two populations are significantly different.\n",
    "\n",
    "2. Choose the significance level (α). In this case, α = 0.05.\n",
    "\n",
    "3. Calculate the sample variances of each group:\n",
    "   - Sample Variance of Restaurant A (s1^2)\n",
    "   - Sample Variance of Restaurant B (s2^2)\n",
    "\n",
    "4. Determine the degrees of freedom for each group:\n",
    "   - Degrees of freedom for Restaurant A (df1) = n1 - 1, where n1 is the sample size of Restaurant A.\n",
    "   - Degrees of freedom for Restaurant B (df2) = n2 - 1, where n2 is the sample size of Restaurant B.\n",
    "\n",
    "5. Calculate the F-statistic:\n",
    "   - F-statistic = s1^2 / s2^2\n",
    "\n",
    "6. Determine the critical F-value based on the degrees of freedom and the significance level.\n",
    "\n",
    "7. Compare the calculated F-statistic with the critical F-value:\n",
    "   - If the calculated F-statistic is greater than the critical F-value, reject the null hypothesis. There is evidence to suggest that the variances are significantly different.\n",
    "   - If the calculated F-statistic is less than or equal to the critical F-value, fail to reject the null hypothesis. There is not enough evidence to conclude that the variances are significantly different."
   ]
  },
  {
   "cell_type": "code",
   "execution_count": 10,
   "id": "d8e9b8f0-ac56-45bd-9131-5b3134628b19",
   "metadata": {},
   "outputs": [
    {
     "name": "stdout",
     "output_type": "stream",
     "text": [
      "F-statistic: 1.4551907719609583\n",
      "Criticl F-value: 6.977701858535566\n",
      "Fail to reject the null hypothesis. The variances are not significantly different.\n"
     ]
    }
   ],
   "source": [
    "import numpy as np\n",
    "from scipy import stats\n",
    "\n",
    "# Data for each group\n",
    "restaurant_a = [24, 25, 28, 23, 22, 20, 27]\n",
    "restaurant_b = [31, 33, 35, 30, 32, 36]\n",
    "\n",
    "# sample variance\n",
    "sample_var_a = np.var(restaurant_a, ddof=1)\n",
    "sample_var_b = np.var(restaurant_b, ddof=1)\n",
    "\n",
    "# sample sizes\n",
    "n1 = len(restaurant_a)\n",
    "n2 = len(restaurant_b)\n",
    "\n",
    "# Degrees of freedom\n",
    "df1 = n1 - 1\n",
    "df2 = n2 - 1\n",
    "\n",
    "# Calculate the F-statistic\n",
    "f_statistic = sample_var_a / sample_var_b\n",
    "print(\"F-statistic:\", f_statistic)\n",
    "\n",
    "# calculate the critical F-value\n",
    "alpha = 0.05\n",
    "critical_f_value = stats.f.ppf(1 - alpha / 2, df1, df2)\n",
    "print(\"Criticl F-value:\", critical_f_value)\n",
    "\n",
    "# Perform the F-test\n",
    "if f_statistic > critical_f_value:\n",
    "    print(\"Reject the null hypothesis. The variances are significantlt different.\")\n",
    "else:\n",
    "    print(\"Fail to reject the null hypothesis. The variances are not significantly different.\")"
   ]
  },
  {
   "cell_type": "markdown",
   "id": "fd04c7a6-3ead-44ca-b235-fd7502b582bd",
   "metadata": {},
   "source": [
    "In this case, the calculated F-statistic is approximately 1.455, and the critical F-value at the 5% significance level with (df1=6, df2=5) degrees of freedom is approximately 6.977. Since the calculated F-statistic is less than the critical F-value, we fail to reject the null hypothesis. Therefore, there is not enough evidence to conclude that the variances of the two populations are significantly different at the 5% significance level."
   ]
  },
  {
   "cell_type": "markdown",
   "id": "1af4f8a4-9bb2-4fe1-8755-edc0fcb8dc8f",
   "metadata": {},
   "source": [
    "### Q9. The following data represent the test scores of two groups of students: \n",
    "### Group A: 80, 85, 90, 92, 87, 83;\n",
    "### Group B: 75, 78, 82, 79, 81, 84. \n",
    "### Conduct an F-test at the 1% significance level to determine if the variances are significantly different."
   ]
  },
  {
   "cell_type": "markdown",
   "id": "4b1523e0-ec85-4edd-9bd3-739fd69a00cb",
   "metadata": {},
   "source": [
    "Ans) To conduct an F-test to compare the variances of two populations, we can follow these steps:\n",
    "\n",
    "1. Set up the hypotheses:\n",
    "   - Null hypothesis (H0): The variances of the two groups are equal.\n",
    "   - Alternative hypothesis (H1): The variances of the two groups are significantly different.\n",
    "\n",
    "2. Choose the significance level (α). In this case, α = 0.05.\n",
    "\n",
    "3. Calculate the sample variances of each group:\n",
    "   - Sample Variance of Group A (s1^2)\n",
    "   - Sample Variance of Group B (s2^2)\n",
    "\n",
    "4. Determine the degrees of freedom for each group:\n",
    "   - Degrees of freedom for Group A (df1) = n1 - 1, where n1 is the sample size of Group A.\n",
    "   - Degrees of freedom for Group B (df2) = n2 - 1, where n2 is the sample size of Group B.\n",
    "\n",
    "5. Calculate the F-statistic:\n",
    "   - F-statistic = s1^2 / s2^2\n",
    "\n",
    "6. Determine the critical F-value based on the degrees of freedom and the significance level.\n",
    "\n",
    "7. Compare the calculated F-statistic with the critical F-value:\n",
    "   - If the calculated F-statistic is greater than the critical F-value, reject the null hypothesis. There is evidence to suggest that the variances are significantly different.\n",
    "   - If the calculated F-statistic is less than or equal to the critical F-value, fail to reject the null hypothesis. There is not enough evidence to conclude that the variances are significantly different."
   ]
  },
  {
   "cell_type": "code",
   "execution_count": 11,
   "id": "34100750-4f2e-4a16-b3f9-464c98f1630c",
   "metadata": {},
   "outputs": [
    {
     "name": "stdout",
     "output_type": "stream",
     "text": [
      "F-statistic: 1.9442622950819677\n",
      "Critical F-value: 14.939605459912224\n",
      "Fail to reject the nul hypothesis. The variances are not significantly different.\n"
     ]
    }
   ],
   "source": [
    "import numpy as np \n",
    "import scipy.stats as stats\n",
    "\n",
    "# data for each group\n",
    "group_a = [80, 85, 90, 92, 87, 83]\n",
    "group_b = [75, 78, 82, 79, 81, 84]\n",
    "\n",
    "#sample variance \n",
    "sample_var_a = np.var(group_a, ddof=1)\n",
    "sample_var_b = np.var(group_b, ddof=1)\n",
    "\n",
    "# sample size\n",
    "n1 = len(group_a)\n",
    "n2 = len(group_b)\n",
    "\n",
    "# Degrees of freedom\n",
    "df1 = n1 - 1\n",
    "df2 = n2 - 1\n",
    "\n",
    "# calculate the F-statistic\n",
    "f_statistic = sample_var_a / sample_var_b\n",
    "print(\"F-statistic:\", f_statistic)\n",
    "\n",
    "# Calculate the critical F-value\n",
    "alpha = 0.01\n",
    "critical_f_value = stats.f.ppf(1 - alpha/2, df1, df2)\n",
    "print(\"Critical F-value:\", critical_f_value)\n",
    "\n",
    "# perform the F-test\n",
    "if f_statistic > critical_f_value:\n",
    "    print(\"Reject the nul hypothesis. The variances are significantly different.\")\n",
    "else:\n",
    "    print(\"Fail to reject the nul hypothesis. The variances are not significantly different.\")"
   ]
  },
  {
   "cell_type": "markdown",
   "id": "519d6f41-bad5-4b84-88b6-d082c7986e90",
   "metadata": {},
   "source": [
    "In this case, the calculated F-statistic is approximately 1.944, and the critical F-value at the 1% significance level with (df1=14, df2=5) degrees of freedom is approximately 14.939. Since the calculated F-statistic is less than the critical F-value, we fail to reject the null hypothesis. Therefore, there is not enough evidence to conclude that the variances of the two groyps are significantly different at the 5% significance level."
   ]
  }
 ],
 "metadata": {
  "kernelspec": {
   "display_name": "Python 3 (ipykernel)",
   "language": "python",
   "name": "python3"
  },
  "language_info": {
   "codemirror_mode": {
    "name": "ipython",
    "version": 3
   },
   "file_extension": ".py",
   "mimetype": "text/x-python",
   "name": "python",
   "nbconvert_exporter": "python",
   "pygments_lexer": "ipython3",
   "version": "3.10.8"
  }
 },
 "nbformat": 4,
 "nbformat_minor": 5
}
