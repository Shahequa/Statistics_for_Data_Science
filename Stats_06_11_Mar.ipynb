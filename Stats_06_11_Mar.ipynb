{
 "cells": [
  {
   "cell_type": "markdown",
   "id": "649178e9-2292-457b-9035-d676c980c6f7",
   "metadata": {},
   "source": [
    "## Statistics Advance Assignment - 4\n",
    "***By Shahequa Modabbera***"
   ]
  },
  {
   "cell_type": "markdown",
   "id": "bb8c175f-8cdd-4169-b012-ddc10310f358",
   "metadata": {},
   "source": [
    "### Q1: What is the difference between a t-test and a z-test? Provide an example scenario where you would use each type of test."
   ]
  },
  {
   "cell_type": "markdown",
   "id": "2ebc6153-3bf9-4a71-ac44-02a79bd285c0",
   "metadata": {},
   "source": [
    "`Ans)` \n",
    "\n",
    "|         | Z-Test                                    | T-Test                                    |\n",
    "|---------|-------------------------------------------|-------------------------------------------|\n",
    "| Formula | (x̄ - μ) / (σ / √n)                        | (x̄ - μ) / (s / √n)                        |\n",
    "| Use     | Population mean and standard deviation known| Population mean is unknown and sample size is small |\n",
    "| Sample Size | ≥ 30                                   | < 30                                      |\n",
    "| Assumption | Population variance is known             | Population variance is unknown and assumed to be equal or similar in both samples |\n",
    "| Distribution | Normal                                  | Student's t                                | \n",
    "| Example | A company wants to test if the average height of its employees is significantly different from the national average. The national average height and standard deviation are known. | A researcher wants to compare the mean test scores of two groups of students. The variance is unknown and assumed to be equal in both groups. |"
   ]
  },
  {
   "cell_type": "markdown",
   "id": "216c451b-e9b3-4424-899e-bd0c9d86bd68",
   "metadata": {},
   "source": [
    "### Q2: Differentiate between one-tailed and two-tailed tests."
   ]
  },
  {
   "cell_type": "markdown",
   "id": "b805088d-bfba-4987-a958-0b24741c8eb0",
   "metadata": {},
   "source": [
    "`Ans)` \n",
    "\n",
    "| Aspect | One-tailed test | Two-tailed test |\n",
    "| --- | --- | --- |\n",
    "| Direction | Tests the hypothesis in one direction only, either greater than or less than | Tests the hypothesis in both directions, greater than and less than |\n",
    "| Hypothesis statement | Has a specific alternative hypothesis statement | Has a non-specific alternative hypothesis statement |\n",
    "| Critical values | Uses a single critical value | Uses two critical values |\n",
    "| Significance level | Uses a smaller significance level as the test is more focused | Uses a larger significance level as the test is less focused |\n",
    "| Type I error | Probability of rejecting a true null hypothesis is lower | Probability of rejecting a true null hypothesis is higher |\n",
    "| Type II error | Probability of accepting a false null hypothesis is higher | Probability of accepting a false null hypothesis is lower |\n",
    "| Example | Testing if the mean weight of apples is less than 1 pound | Testing if the mean weight of apples is different than 1 pound |"
   ]
  },
  {
   "cell_type": "markdown",
   "id": "d88b9dff-9341-49db-80ee-bf88ad9299ef",
   "metadata": {},
   "source": [
    "### Q3: Explain the concept of Type 1 and Type 2 errors in hypothesis testing. Provide an example scenario for each type of error."
   ]
  },
  {
   "cell_type": "markdown",
   "id": "da983489-c871-4e11-9212-008faec4997d",
   "metadata": {},
   "source": [
    "`Ans)` `In hypothesis testing, Type 1 and Type 2 errors are the two types of errors that can occur when making decisions based on statistical hypothesis testing.`\n",
    "\n",
    "- Type 1 error: Type 1 error occurs when a null hypothesis that is actually true is rejected. It is also called a \"false positive\" error. The probability of making a Type 1 error is denoted by alpha (α) and is also called the significance level. \n",
    "\n",
    "*Example scenario: A company tests a new drug and concludes that it is effective in treating a disease, when in fact it has no effect. This leads to the drug being approved and marketed, causing harm to patients.*\n",
    "\n",
    "- Type 2 error: Type 2 error occurs when a null hypothesis that is actually false is not rejected. It is also called a \"false negative\" error. The probability of making a Type 2 error is denoted by beta (β). \n",
    "\n",
    "*Example scenario: A company tests a new drug and concludes that it is not effective in treating a disease, when in fact it is effective. This leads to the drug not being approved or marketed, causing patients to miss out on a potentially life-saving treatment.*\n",
    "\n",
    "`In both cases, the goal is to minimize the probability of making the error. However, there is a trade-off between Type 1 and Type 2 errors. Decreasing the probability of one type of error increases the probability of the other type of error. Therefore, it is important to carefully choose the significance level (alpha) and sample size to minimize both types of errors.`"
   ]
  },
  {
   "cell_type": "markdown",
   "id": "5483703a-75e5-4cf5-836a-8b0373c197d0",
   "metadata": {},
   "source": [
    "### Q4: Explain Bayes's theorem with an example."
   ]
  },
  {
   "cell_type": "markdown",
   "id": "5d4aaea8-1fe0-4c98-a207-347c9cb60c0c",
   "metadata": {},
   "source": [
    "`Ans)` `Bayes's theorem is a fundamental concept in probability theory that describes the probability of an event occurring, given some prior knowledge or evidence.`\n",
    "\n",
    "`Bayes's theorem states that the probability of an event A, given that event B has occurred, is equal to the probability of event B given A, multiplied by the probability of A and divided by the probability of B. This can be expressed mathematically as:`\n",
    "\n",
    "    P(A|B) = P(B|A) * P(A) / P(B)\n",
    "\n",
    "*Where:*\n",
    "\n",
    "- P(A|B) is the probability of event A given event B has occurred\n",
    "- P(B|A) is the probability of event B given event A has occurred\n",
    "- P(A) is the prior probability of event A occurring\n",
    "- P(B) is the prior probability of event B occurring\n",
    "\n",
    "**Example:**\n",
    "\n",
    "`Suppose a company has two machines that produce widgets: Machine A and Machine B. The company knows that Machine A produces 60% of the widgets, while Machine B produces 40%. The company also knows that Machine A produces 2% defective widgets, while Machine B produces 5% defective widgets.`\n",
    "\n",
    "`Now suppose a randomly selected widget is found to be defective. What is the probability that the widget was produced by Machine A?`\n",
    "\n",
    "**Using Bayes's theorem, we can calculate the probability as follows:**\n",
    "\n",
    "- P(A) = 0.6 (prior probability that the widget was produced by Machine A)\n",
    "- P(B) = 0.4 (prior probability that the widget was produced by Machine B)\n",
    "- P(D|A) = 0.02 (probability of a defective widget given it was produced by Machine A)\n",
    "- P(D|B) = 0.05 (probability of a defective widget given it was produced by Machine B)\n",
    "\n",
    "**Now we can calculate the probability that the widget was produced by Machine A given that it is defective:**\n",
    "\n",
    "- P(D) = P(D|A) * P(A) + P(D|B) * P(B)\n",
    "\n",
    "          = 0.02 * 0.6 + 0.05 * 0.4\n",
    "       \n",
    "          = 0.034\n",
    "\n",
    "- P(A|D) = (P(D|A) * P(A)) / P(D)\n",
    "\n",
    "          = (0.02 * 0.6) / 0.034\n",
    "          \n",
    "          = 0.353 or 35.3%\n",
    "\n",
    "`Therefore, given that the widget is defective, the probability that it was produced by Machine A is 35.3%.`"
   ]
  },
  {
   "cell_type": "markdown",
   "id": "050c6f13-ec17-42fb-9c76-ccf546df585e",
   "metadata": {},
   "source": [
    "### Q5: What is a confidence interval? How to calculate the confidence interval, explain with an example."
   ]
  },
  {
   "cell_type": "markdown",
   "id": "5e7cdeb9-907a-474b-aaca-9204bb8216b5",
   "metadata": {},
   "source": [
    "`Ans)` `A confidence interval is a range of values that is likely to contain the true population parameter with a certain level of confidence. In statistical analysis, we often use confidence intervals to estimate an unknown population parameter, such as a population mean or proportion, based on a sample of data.`\n",
    "\n",
    "`The calculation of a confidence interval involves three components: the point estimate, the margin of error, and the level of confidence. The point estimate is the sample statistic used to estimate the population parameter, such as the sample mean or proportion. The margin of error is the amount added and subtracted to the point estimate to create the interval. The level of confidence is the probability that the interval contains the true population parameter.`\n",
    "\n",
    "**For example, suppose a company wants to estimate the average height of all employees. They take a random sample of 100 employees and find the sample mean height to be 68 inches with a standard deviation of 3 inches. They want to create a 95% confidence interval for the population mean height. Using the formula for a confidence interval for the mean, we get:**\n",
    "\n",
    "    Confidence interval = sample mean ± (critical value x standard error)\n",
    " \n",
    "*where the critical value is obtained from the t-distribution based on the level of confidence and degrees of freedom, and the standard error is the standard deviation of the sample mean, which is equal to the population standard deviation divided by the square root of the sample size.*\n",
    "\n",
    "**Assuming a two-tailed test with a level of significance of 0.05, the critical value is 1.96 for 99 degrees of freedom. The standard error is 3 / sqrt(100) = 0.3. Therefore, the confidence interval is:**\n",
    "\n",
    "    68 ± (1.96 x 0.3) = (67.42, 68.58)\n",
    "\n",
    "**We can interpret this interval as saying that we are 95% confident that the true population mean height falls between 67.42 and 68.58 inches based on our sample of 100 employees.**"
   ]
  },
  {
   "cell_type": "markdown",
   "id": "5a8e63b9-22e3-41a1-ade2-64879b56d740",
   "metadata": {},
   "source": [
    "### Q6. Use Bayes' Theorem to calculate the probability of an event occurring given prior knowledge of the event's probability and new evidence. Provide a sample problem and solution."
   ]
  },
  {
   "cell_type": "markdown",
   "id": "f3ec3d9e-db75-4e00-aa49-77fa8837c58a",
   "metadata": {},
   "source": [
    "`Ans)` `Example problem:`\n",
    "\n",
    "`Suppose a doctor knows that 10% of patients who visit their clinic have a certain rare disease. A new diagnostic test has been developed that correctly identifies the disease 95% of the time for patients who have it, but also produces a false positive 10% of the time for patients who do not have it. If a patient tests positive for the disease, what is the probability that they actually have it?`\n",
    "\n",
    "##### Solution using Bayes' Theorem:\n",
    "\n",
    "Let A be the event that a patient has the rare disease, and B be the event that the patient tests positive for the disease.\n",
    "\n",
    "We are given P(A) = 0.10, the prior probability of the patient having the disease.\n",
    "\n",
    "We are also given P(B|A) = 0.95, the probability of a positive test result given that the patient has the disease.\n",
    "\n",
    "Finally, we are given P(B|not A) = 0.10, the probability of a positive test result given that the patient does not have the disease.\n",
    "\n",
    "**We want to find P(A|B), the probability of the patient having the disease given that they test positive.**\n",
    "\n",
    "`Using Bayes' Theorem, we have:`\n",
    "\n",
    "P(A|B) = P(B|A) * P(A) / P(B)\n",
    "\n",
    "where P(B) = P(B|A) * P(A) + P(B|not A) * P(not A)\n",
    "\n",
    "*We can find P(not A) by subtracting P(A) from 1:*\n",
    "\n",
    "P(not A) = 1 - P(A) = 1 - 0.10 = 0.90\n",
    "\n",
    "*Now we can substitute in the values:*\n",
    "\n",
    "P(B) = 0.95 * 0.10 + 0.10 * 0.90 = 0.19\n",
    "\n",
    "P(A|B) = 0.95 * 0.10 / 0.19 = 0.50\n",
    "\n",
    "`Therefore, the probability that a patient has the rare disease given that they test positive is 0.50 or 50%.`"
   ]
  },
  {
   "cell_type": "markdown",
   "id": "8554f124-5471-469c-85f7-73ebad737ff4",
   "metadata": {},
   "source": [
    "### Q7. Calculate the 95% confidence interval for a sample of data with a mean of 50 and a standard deviation of 5. Interpret the results."
   ]
  },
  {
   "cell_type": "markdown",
   "id": "730413fe-718e-440a-8739-0f3797131e1a",
   "metadata": {},
   "source": [
    "`Ans)` `To calculate the 95% confidence interval, we need to use the following formula:`\n",
    "\n",
    "    95% CI = X̄ ± Zα/2 * (σ/√n)\n",
    "\n",
    "**Where:**\n",
    "- X̄ = sample mean\n",
    "- Zα/2 = Z-score for a 95% confidence level (1.96)\n",
    "- σ = population standard deviation (unknown in this case, so we use the sample standard deviation)\n",
    "- n = sample size\n",
    "\n",
    "`Plugging in the values we have, we get:`\n",
    "\n",
    "    95% CI = 50 ± 1.96 * (5/√n)\n",
    "\n",
    "`Since we don't know the sample size, let's assume it is 100:`\n",
    "\n",
    "    95% CI = 50 ± 1.96 * (5/√100)\n",
    "           = 50 ± 0.98\n",
    "\n",
    "`Therefore, the 95% confidence interval for the population mean is (49.02, 50.98). This means that we are 95% confident that the true population mean falls between these two values.`\n",
    "\n",
    "`Interpretation: If we were to take many samples of size 100 from the same population and calculate a 95% confidence interval for each sample, we would expect 95% of the intervals to contain the true population mean. In this case, we can be 95% confident that the population mean is between 49.02 and 50.98, based on the given sample data.`"
   ]
  },
  {
   "cell_type": "markdown",
   "id": "882e82cc-9148-4f96-b105-aa6ceeb28fa4",
   "metadata": {},
   "source": [
    "### Q8. What is the margin of error in a confidence interval? How does sample size affect the margin of error? Provide an example of a scenario where a larger sample size would result in a smaller margin of error."
   ]
  },
  {
   "cell_type": "markdown",
   "id": "5c8b6aa1-8b0d-4e47-a325-c1778e403438",
   "metadata": {},
   "source": [
    "`Ans)` `The margin of error is the range of values above and below the point estimate that is likely to contain the true population parameter with a certain level of confidence. It is a measure of the precision of the estimate.`\n",
    "\n",
    "`The margin of error decreases as the sample size increases because larger sample sizes provide more information and reduce the impact of sampling variability. A larger sample size results in a more representative sample and a smaller standard error, which means that the estimate is likely to be closer to the true population parameter.`\n",
    "\n",
    "**For example, suppose a company wants to estimate the percentage of customers who are satisfied with their product. They take a random sample of 100 customers and find that 60% are satisfied. The margin of error for a 95% confidence interval is calculated to be +/- 9.8%. This means that we are 95% confident that the true percentage of satisfied customers falls within the range of 50.2% to 69.8%.**\n",
    "\n",
    "**If the company had taken a larger sample size of 500 customers, the margin of error for the same confidence interval would be calculated to be +/- 4.4%. This means that we are 95% confident that the true percentage of satisfied customers falls within the range of 55.6% to 64.4%. The larger sample size results in a smaller margin of error and a more precise estimate of the true percentage of satisfied customers.**"
   ]
  },
  {
   "cell_type": "markdown",
   "id": "18cf4e25-cef6-4666-99c8-ce67b28d34d0",
   "metadata": {},
   "source": [
    "### Q9. Calculate the z-score for a data point with a value of 75, a population mean of 70, and a population standard deviation of 5. Interpret the results."
   ]
  },
  {
   "cell_type": "markdown",
   "id": "ef17acd4-82fd-432b-a718-c42b903461f5",
   "metadata": {},
   "source": [
    "`Ans)` `The z-score measures how many standard deviations a data point is from the mean of its population. It can be calculated as:`\n",
    "\n",
    "    z = (x - μ) / σ\n",
    "\n",
    "**where x is the value of the data point, μ is the population mean, and σ is the population standard deviation.**\n",
    "\n",
    "*Plugging in the given values, we get:*\n",
    "\n",
    "    z = (75 - 70) / 5 = 1\n",
    "\n",
    "`So the z-score for this data point is 1. This means that the data point is one standard deviation above the population mean.`\n",
    "\n",
    "`The interpretation is that the data point is higher than the population mean by one standard deviation. This can be useful for understanding how extreme or unusual a particular data point is relative to the rest of the population.`"
   ]
  },
  {
   "cell_type": "markdown",
   "id": "08823330-d5da-4539-8c94-5614a82be362",
   "metadata": {},
   "source": [
    "### Q10. In a study of the effectiveness of a new weight loss drug, a sample of 50 participants lost an average of 6 pounds with a standard deviation of 2.5 pounds. Conduct a hypothesis test to determine if the drug is significantly effective at a 95% confidence level using a t-test."
   ]
  },
  {
   "cell_type": "markdown",
   "id": "96c29a3e-8815-4747-abc0-040428a22409",
   "metadata": {},
   "source": [
    "`Ans)` `To conduct a hypothesis test to determine if the drug is significantly effective, we need to state the null and alternative hypotheses.` \n",
    "\n",
    "- Null Hypothesis: The new weight loss drug is not significantly effective.\n",
    "- Alternative Hypothesis: The new weight loss drug is significantly effective.\n",
    "\n",
    "`We can test this hypothesis using a one-sample t-test. Here, we will use a significance level of 0.05.`\n",
    "\n",
    "`First, we need to calculate the t-statistic:`\n",
    "\n",
    "    t = (x̄ - μ) / (s / sqrt(n))\n",
    "\n",
    "**where x̄ is the sample mean, μ is the population mean (null hypothesis value), s is the sample standard deviation, and n is the sample size.**\n",
    "\n",
    "*Substituting the given values, we get:*\n",
    "\n",
    "    t = (6 - 0) / (2.5 / sqrt(50))\n",
    "    t = 12.67\n",
    "\n",
    "`The degrees of freedom for a one-sample t-test with 50 participants is 49.`\n",
    "\n",
    "`Using a t-distribution table or calculator, the critical t-value for a two-tailed test at a 95% confidence level with 49 degrees of freedom is ±2.009.`\n",
    "\n",
    "`Since the calculated t-value (12.67) is greater than the critical t-value (±2.009), we reject the null hypothesis and conclude that the new weight loss drug is significantly effective.`"
   ]
  },
  {
   "cell_type": "markdown",
   "id": "c2d6d764-ad5c-48fb-a55a-02cf360a383c",
   "metadata": {},
   "source": [
    "### Q11. In a survey of 500 people, 65% reported being satisfied with their current job. Calculate the 95% confidence interval for the true proportion of people who are satisfied with their job."
   ]
  },
  {
   "cell_type": "markdown",
   "id": "5c4275f8-5382-49c3-9a64-95f8b48effc7",
   "metadata": {},
   "source": [
    "`Ans)` `To calculate the 95% confidence interval for the true proportion of people who are satisfied with their job, we can use the following formula:`\n",
    "\n",
    "    Confidence Interval = sample proportion +/- z-score * standard error\n",
    "\n",
    "`where the z-score corresponds to the desired confidence level (in this case, 95%) and the standard error is calculated as:`\n",
    "\n",
    "    Standard Error = sqrt((sample proportion * (1 - sample proportion)) / sample size)\n",
    "\n",
    "`Plugging in the given values, we have:`\n",
    "\n",
    "    sample proportion = 0.65\n",
    "    sample size = 500\n",
    "    z-score (for 95% confidence level) = 1.96\n",
    "\n",
    "    Standard Error = sqrt((0.65 * 0.35) / 500) = 0.033\n",
    "\n",
    "    Confidence Interval = 0.65 +/- 1.96 * 0.033 = [0.585, 0.715]\n",
    "\n",
    "`Therefore, we can say with 95% confidence that the true proportion of people who are satisfied with their job lies between 0.585 and 0.715.`"
   ]
  },
  {
   "cell_type": "markdown",
   "id": "5743be5b-37a7-4931-ba79-6cdb3a232f0c",
   "metadata": {},
   "source": [
    "### Q12. A researcher is testing the effectiveness of two different teaching methods on student performance. Sample A has a mean score of 85 with a standard deviation of 6, while sample B has a mean score of 82 with a standard deviation of 5. Conduct a hypothesis test to determine if the two teaching methods have a significant difference in student performance using a t-test with a significance level of 0.01."
   ]
  },
  {
   "cell_type": "markdown",
   "id": "3ee33115-18d7-40db-9501-97c728e2b592",
   "metadata": {},
   "source": [
    "`Ans)` `To conduct a hypothesis test to determine if the two teaching methods have a significant difference in student performance, we can use a two-sample t-test. Here are the steps:`\n",
    "\n",
    "`Step 1: State the null and alternative hypotheses.`\n",
    "\n",
    "- Null hypothesis: There is no significant difference in student performance between the two teaching methods.\n",
    "- Alternative hypothesis: There is a significant difference in student performance between the two teaching methods.\n",
    "\n",
    "`Step 2: Set the significance level.`\n",
    "\n",
    "**The significance level is given as 0.01.**\n",
    "\n",
    "`Step 3: Calculate the test statistic.`\n",
    "\n",
    "**We will use the two-sample t-test formula to calculate the test statistic:**\n",
    "\n",
    "    t = (x̄1 - x̄2) / sqrt[(s1^2 / n1) + (s2^2 / n2)]\n",
    "\n",
    "**Where x̄1 and x̄2 are the sample means, s1 and s2 are the sample standard deviations, and n1 and n2 are the sample sizes for sample A and sample B, respectively.**\n",
    "\n",
    "**Substituting the values, we get:**\n",
    "\n",
    "    t = (85 - 82) / sqrt[(6^2 / 50) + (5^2 / 50)]\n",
    "    t = 3 / 1.237\n",
    "    t = 2.42\n",
    "\n",
    "`Step 4: Find the critical value.`\n",
    "\n",
    "**The degrees of freedom for the test is (n1 + n2 - 2) = (50 + 50 - 2) = 98, using a t-distribution table and a significance level of 0.01, we find the critical value to be ±2.62.**\n",
    "\n",
    "`Step 5: Compare the test statistic and critical value.`\n",
    "\n",
    "**The absolute value of the test statistic (2.42) is less than the critical value (2.62). Therefore, we fail to reject the null hypothesis.**\n",
    "\n",
    "`Step 6: Interpret the results.`\n",
    "\n",
    "**There is not enough evidence to conclude that there is a significant difference in student performance between the two teaching methods at a significance level of 0.01.**\n",
    "\n",
    "` conclusion, we can say that the data does not provide enough evidence to conclude that the two teaching methods have a significant difference in student performance.`"
   ]
  },
  {
   "cell_type": "markdown",
   "id": "dabfac7e-20c2-4436-844d-5d582240e054",
   "metadata": {},
   "source": [
    "### Q13. A population has a mean of 60 and a standard deviation of 8. A sample of 50 observations has a mean of 65. Calculate the 90% confidence interval for the true population mean."
   ]
  },
  {
   "cell_type": "markdown",
   "id": "a3a72b12-004d-4dae-b48d-2e43a36dd752",
   "metadata": {},
   "source": [
    "`Ans)` `To calculate the 90% confidence interval for the true population mean, we can use the following formula:`\n",
    "\n",
    "    CI = x̄ ± z*(σ/√n)\n",
    "\n",
    "**where:**\n",
    "\n",
    "- x̄ = sample mean (65)\n",
    "- z = the z-score associated with a 90% confidence level, which can be found using a z-table or calculator (1.645 for a two-tailed test)\n",
    "- σ = population standard deviation (8)\n",
    "- n = sample size (50)\n",
    "\n",
    "**Substituting the values given:**\n",
    "\n",
    "    CI = 65 ± 1.645*(8/√50)\n",
    "    CI = 65 ± 2.924\n",
    "    CI = (62.076, 67.924)\n",
    "\n",
    "`Therefore, we can say with 90% confidence that the true population mean falls within the range of 62.076 to 67.924.`"
   ]
  },
  {
   "cell_type": "markdown",
   "id": "b5ae6764-62e2-45e5-8d37-f63fcbc33221",
   "metadata": {},
   "source": [
    "### Q14. In a study of the effects of caffeine on reaction time, a sample of 30 participants had an average reaction time of 0.25 seconds with a standard deviation of 0.05 seconds. Conduct a hypothesis test to determine if the caffeine has a significant effect on reaction time at a 90% confidence level using a t-test."
   ]
  },
  {
   "cell_type": "markdown",
   "id": "2efdf438-3c08-4103-8839-e1c532b86b7b",
   "metadata": {},
   "source": [
    "`Ans)` `To conduct a hypothesis test to determine if caffeine has a significant effect on reaction time at a 90% confidence level using a t-test, we need to follow the below steps:`\n",
    "\n",
    "`Step 1: State the null and alternative hypotheses.`\n",
    "\n",
    "**The null hypothesis, denoted as H0, is that caffeine has no significant effect on reaction time. The alternative hypothesis, denoted as Ha, is that caffeine has a significant effect on reaction time.**\n",
    "\n",
    "- H0: µ = 0.25\n",
    "- Ha: µ ≠ 0.25\n",
    "\n",
    "*Where µ is the population mean reaction time.*\n",
    "\n",
    "`Step 2: Determine the level of significance and select the appropriate test.`\n",
    "\n",
    "**The level of significance is given as 0.10 (90% confidence level). Since the sample size is less than 30 and the population standard deviation is unknown, we will use a t-test.**\n",
    "\n",
    "`Step 3: Compute the test statistic.`\n",
    "\n",
    "**The test statistic can be calculated using the formula:**\n",
    "\n",
    "    t = (x̄ - µ) / (s / √n)\n",
    "\n",
    "*Where x̄ is the sample mean reaction time, µ is the hypothesized population mean reaction time, s is the sample standard deviation, and n is the sample size.*\n",
    "\n",
    "*Substituting the given values, we get:*\n",
    "\n",
    "    t = (0.25 - 0) / (0.05 / √30)\n",
    "    t = 5.48\n",
    "\n",
    "`Step 4: Determine the critical value.`\n",
    "\n",
    "**The critical value for a two-tailed t-test at a 90% confidence level with 29 degrees of freedom is ±1.699.**\n",
    "\n",
    "`Step 5: Compare the test statistic with the critical value and make a decision.`\n",
    "\n",
    "**Since the absolute value of the test statistic (5.48) is greater than the critical value (1.699), we reject the null hypothesis. This means that there is sufficient evidence to suggest that caffeine has a significant effect on reaction time.**\n",
    "\n",
    "`Step 6: Interpret the results.`\n",
    "\n",
    "**At a 90% confidence level, we can conclude that there is a significant difference in reaction time between the group of participants who were given caffeine and the group who were not. The group given caffeine had a faster reaction time than the group not given caffeine.**"
   ]
  }
 ],
 "metadata": {
  "kernelspec": {
   "display_name": "Python 3 (ipykernel)",
   "language": "python",
   "name": "python3"
  },
  "language_info": {
   "codemirror_mode": {
    "name": "ipython",
    "version": 3
   },
   "file_extension": ".py",
   "mimetype": "text/x-python",
   "name": "python",
   "nbconvert_exporter": "python",
   "pygments_lexer": "ipython3",
   "version": "3.10.8"
  }
 },
 "nbformat": 4,
 "nbformat_minor": 5
}
