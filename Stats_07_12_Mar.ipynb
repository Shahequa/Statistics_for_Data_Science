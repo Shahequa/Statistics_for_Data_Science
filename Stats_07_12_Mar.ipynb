{
 "cells": [
  {
   "cell_type": "markdown",
   "id": "6eba31c7-2856-4f14-9982-6ed696e2d2b3",
   "metadata": {},
   "source": [
    "## Statistics Advance Assignment - 5\n",
    "***By Shahequa Modabbera***"
   ]
  },
  {
   "cell_type": "markdown",
   "id": "e9d6cbb4-2fb0-463c-8e29-4378d9d41d97",
   "metadata": {},
   "source": [
    "### Q1. Calculate the 95% confidence interval for a sample of data with a mean of 50 and a standard deviation of 5 using Python. Interpret the results."
   ]
  },
  {
   "cell_type": "markdown",
   "id": "ef4c7317-7f65-4116-b5f0-a0fd1fb8dc4d",
   "metadata": {},
   "source": [
    "#### Ans) To calculate the 95% confidence interval for a sample of data with a mean of 50 and a standard deviation of 5 using Python, we can use the `stats.norm.interval` function from the `scipy` library. Here's the code:"
   ]
  },
  {
   "cell_type": "code",
   "execution_count": 1,
   "id": "446731ed-5fe8-46f9-a399-cd4c7d7170fa",
   "metadata": {},
   "outputs": [
    {
     "name": "stdout",
     "output_type": "stream",
     "text": [
      "The 95% confidence interval is: (49.02001800772997, 50.97998199227003)\n"
     ]
    }
   ],
   "source": [
    "from scipy import stats\n",
    "\n",
    "sample_mean = 50\n",
    "sample_std = 5\n",
    "n = 100 # Assuming sample size of 100\n",
    "\n",
    "confidence_level = 0.95\n",
    "z_score = stats.norm.ppf((1 + confidence_level) / 2) # two-tailed test\n",
    "\n",
    "margin_of_error = z_score * (sample_std / (n ** 0.5))\n",
    "\n",
    "confidence_interval = (sample_mean - margin_of_error, sample_mean + margin_of_error)\n",
    "\n",
    "print(\"The 95% confidence interval is:\", confidence_interval)"
   ]
  },
  {
   "cell_type": "markdown",
   "id": "32f244bd-7fec-42ec-bf67-1e3f61cedd44",
   "metadata": {},
   "source": [
    "#### Interpretation: We can say with 95% confidence that the true population mean lies between 49.02 and 50.97. This means that if we were to repeat the sampling process multiple times, 95% of the resulting confidence intervals would contain the true population mean."
   ]
  },
  {
   "cell_type": "markdown",
   "id": "cfe45444-f21a-4dea-917a-57f672468077",
   "metadata": {},
   "source": [
    "### Q2. Conduct a chi-square goodness of fit test to determine if the distribution of colors of M&Ms in a bag matches the expected distribution of 20% blue, 20% orange, 20% green, 10% yellow, 10% red, and 20% brown. Use Python to perform the test with a significance level of 0.05."
   ]
  },
  {
   "cell_type": "markdown",
   "id": "02d2227b-bc74-483c-bfb1-6f3facacfc8c",
   "metadata": {},
   "source": [
    "Sure, here's an example Python code to conduct a chi-square goodness of fit test for the distribution of colors of M&Ms:"
   ]
  },
  {
   "cell_type": "code",
   "execution_count": 2,
   "id": "9441ca85-7c49-4b89-8718-3b5b617c6e71",
   "metadata": {},
   "outputs": [
    {
     "name": "stdout",
     "output_type": "stream",
     "text": [
      "Chi-square test statistic: 3.6999999999999997\n",
      "p-value: nan\n",
      "Fail to reject the null hypothesis: the distribution of colors matches the expected distribution.\n"
     ]
    }
   ],
   "source": [
    "import scipy.stats as stats\n",
    "import numpy as np\n",
    "\n",
    "observed = [25, 18, 22, 12, 8, 15] # observed frequencies of blue, orange, green, yellow, red, brown\n",
    "expected = [0.2, 0.2, 0.2, 0.1, 0.1, 0.2] # expected proportions of blue, orange, green, yellow, red, brown\n",
    "\n",
    "total_observed = np.sum(observed) # sum of observed frequencies\n",
    "expected_frequencies = [exp * total_observed for exp in expected] # expected frequencies based on expected proportions\n",
    "\n",
    "# perform chi-square goodness of fit test\n",
    "chi_square, p_value = stats.chisquare(observed, expected_frequencies, ddof=5)\n",
    "\n",
    "# print the test results\n",
    "print(\"Chi-square test statistic:\", chi_square)\n",
    "print(\"p-value:\", p_value)\n",
    "\n",
    "if p_value < 0.05:\n",
    "    print(\"Reject the null hypothesis: the distribution of colors does not match the expected distribution.\")\n",
    "else:\n",
    "    print(\"Fail to reject the null hypothesis: the distribution of colors matches the expected distribution.\")"
   ]
  },
  {
   "cell_type": "markdown",
   "id": "177a6946-d8d6-4274-a9bf-504097b937d2",
   "metadata": {},
   "source": [
    "In this code, we first define the observed frequencies of the M&M colors in a sample bag as a list called `observed`, and the expected proportions of each color as a list called `expected`. We then calculate the expected frequencies based on the expected proportions, using the total number of observed M&Ms in the sample (`total_observed`).\n",
    "\n",
    "We then use the `chisquare` function from the `scipy.stats` module to perform the chi-square goodness of fit test. The `ddof` parameter is set to 5 since there are 6 categories (colors) and we estimate one parameter (the overall proportion) from the sample.\n",
    "\n",
    "Finally, we print the test results and interpret them based on the significance level of 0.05. If the p-value is less than 0.05, we reject the null hypothesis that the distribution of colors matches the expected distribution, otherwise we fail to reject the null hypothesis."
   ]
  },
  {
   "cell_type": "markdown",
   "id": "157800eb-e893-43fd-b7cc-24fd9d808073",
   "metadata": {},
   "source": [
    "### Q3. Use Python to calculate the chi-square statistic and p-value for a contingency table with the following data:\n",
    "|       |   Group A |  Group B |\n",
    "|:-------------------:|:--------------------------------|:------------------------------|\n",
    "|Outcome1  |  20    |  15  |\n",
    "|Outcome2  |  10    |  25  |\n",
    "|Outcome3  |  15    |  20  |\n",
    "\n",
    "#### Interpret the results of the test."
   ]
  },
  {
   "cell_type": "markdown",
   "id": "95e2e87c-b626-42c6-af13-44dced285019",
   "metadata": {},
   "source": [
    "To calculate the chi-square statistic and p-value for the given contingency table in Python, we can use the `scipy.stats` module. Here's the code:"
   ]
  },
  {
   "cell_type": "code",
   "execution_count": 3,
   "id": "f06c93ad-eb15-4aee-ba67-748b0087bdee",
   "metadata": {},
   "outputs": [
    {
     "name": "stdout",
     "output_type": "stream",
     "text": [
      "Chi-square statistic: 5.833333333333334\n",
      "p-value: 0.05411376622282158\n"
     ]
    }
   ],
   "source": [
    "import numpy as np\n",
    "from scipy.stats import chi2_contingency\n",
    "\n",
    "# create the contingency table\n",
    "observed = np.array([[20, 15], [10, 25], [15, 20]])\n",
    "\n",
    "# calculate the chi-square statistic and p-value\n",
    "chi2_stat, p_val, dof, expected = chi2_contingency(observed)\n",
    "\n",
    "print(\"Chi-square statistic:\", chi2_stat)\n",
    "print(\"p-value:\", p_val)"
   ]
  },
  {
   "cell_type": "markdown",
   "id": "45ea9a55-1016-46e2-9c98-7ba05798d041",
   "metadata": {},
   "source": [
    "Interpretation:\n",
    "The chi-square statistic is 5.83 with a p-value of 0.054. Since the p-value is greater than the significance level of 0.05, we fail to reject the null hypothesis that there is no association between the outcome and the group. This means that there is not enough evidence to conclude that there is a significant association between the outcomes and the groups."
   ]
  },
  {
   "cell_type": "markdown",
   "id": "985b6ba4-5391-446e-8096-b3781519f068",
   "metadata": {},
   "source": [
    "### Q4. A study of the prevalence of smoking in a population of 500 individuals found that 60 individuals smoked. Use Python to calculate the 95% confidence interval for the true proportion of individuals in the population who smoke."
   ]
  },
  {
   "cell_type": "markdown",
   "id": "899d2db7-faf9-43bb-b0f9-f08b343c5d25",
   "metadata": {},
   "source": [
    "To calculate the 95% confidence interval for the proportion of individuals in the population who smoke, we can use the formula:\n",
    "\n",
    "    CI = p ± z*(sqrt((p*(1-p))/n))\n",
    "\n",
    "where:\n",
    "\n",
    "    p = proportion of individuals who smoke in the sample\n",
    "    n = sample size\n",
    "    z = the z-score associated with the desired confidence level (in this case, 95%)\n",
    "\n",
    "We can calculate the interval using Python as follows:"
   ]
  },
  {
   "cell_type": "code",
   "execution_count": 4,
   "id": "11996648-c605-4a22-bfae-0a8396683f0a",
   "metadata": {},
   "outputs": [
    {
     "name": "stdout",
     "output_type": "stream",
     "text": [
      "95% Confidence Interval: (0.09151638887130707, 0.1484836111286929)\n"
     ]
    }
   ],
   "source": [
    "import math\n",
    "import scipy.stats as stats\n",
    "\n",
    "n = 500\n",
    "p = 60/500\n",
    "\n",
    "z = stats.norm.ppf(0.975) # for 95% confidence interval\n",
    "\n",
    "se = math.sqrt((p*(1-p))/n)\n",
    "\n",
    "lower_ci = p - z*se\n",
    "upper_ci = p + z*se\n",
    "\n",
    "print(f\"95% Confidence Interval: ({lower_ci}, {upper_ci})\")"
   ]
  },
  {
   "cell_type": "markdown",
   "id": "d31dbd9e-f38c-462c-9889-d67360b533df",
   "metadata": {},
   "source": [
    "Interpretation: We can be 95% confident that the true proportion of individuals in the population who smoke is between 9.15% and 14.84%."
   ]
  },
  {
   "cell_type": "markdown",
   "id": "74d1cf3c-91a7-46e1-a8e5-f245d9046912",
   "metadata": {},
   "source": [
    "### Q5. Calculate the 90% confidence interval for a sample of data with a mean of 75 and a standard deviation of 12 using Python. Interpret the results."
   ]
  },
  {
   "cell_type": "markdown",
   "id": "fb7a8b67-1de0-4d7a-bbae-ded4f0469f80",
   "metadata": {},
   "source": [
    "Ans) We can calculate the 90% confidence interval for a sample of data with a mean of 75 and a standard deviation of 12 in Python:"
   ]
  },
  {
   "cell_type": "code",
   "execution_count": 5,
   "id": "7f98aa10-99ed-43bb-9a67-dfb4353796d0",
   "metadata": {},
   "outputs": [
    {
     "name": "stdout",
     "output_type": "stream",
     "text": [
      "90% confidence interval: [72.15, 77.85]\n"
     ]
    }
   ],
   "source": [
    "import scipy.stats as stats\n",
    "\n",
    "sample_mean = 75\n",
    "sample_std = 12\n",
    "n = 50  # sample size\n",
    "confidence_level = 0.90\n",
    "\n",
    "std_error = sample_std / (n ** 0.5)\n",
    "margin_of_error = stats.t.ppf(1 - (1 - confidence_level) / 2, n - 1) * std_error\n",
    "lower_ci = sample_mean - margin_of_error\n",
    "upper_ci = sample_mean + margin_of_error\n",
    "\n",
    "print(\"90% confidence interval: [{:.2f}, {:.2f}]\".format(lower_ci, upper_ci))"
   ]
  },
  {
   "cell_type": "markdown",
   "id": "80cdcd4d-33d0-40da-895a-b2a7cc7398ab",
   "metadata": {},
   "source": [
    "Interpretation: We are 90% confident that the true population mean lies between 72.15 and 77.85 based on our sample mean of 75 and sample standard deviation of 12."
   ]
  },
  {
   "cell_type": "markdown",
   "id": "855a513f-2814-42d9-b381-b15f52dee5d1",
   "metadata": {},
   "source": [
    "### Q6. Use Python to plot the chi-square distribution with 10 degrees of freedom. Label the axes and shade the area corresponding to a chi-square statistic of 15."
   ]
  },
  {
   "cell_type": "markdown",
   "id": "33248139-8ee8-4965-b1af-575c1e22f345",
   "metadata": {},
   "source": [
    "Here is the Python code to plot the chi-square distribution with 10 degrees of freedom and shade the area corresponding to a chi-square statistic of 15:"
   ]
  },
  {
   "cell_type": "code",
   "execution_count": 6,
   "id": "f516c34e-127f-4480-8843-db4519923ef8",
   "metadata": {},
   "outputs": [
    {
     "data": {
      "image/png": "[encoded data removed]",
      "text/plain": [
       "<Figure size 640x480 with 1 Axes>"
      ]
     },
     "metadata": {},
     "output_type": "display_data"
    }
   ],
   "source": [
    "import numpy as np\n",
    "import matplotlib.pyplot as plt\n",
    "from scipy.stats import chi2\n",
    "\n",
    "df = 10  # degrees of freedom\n",
    "\n",
    "x = np.linspace(0, 30, 500)  # generate 500 values between 0 and 30\n",
    "y = chi2.pdf(x, df)  # chi-square probability density function with 10 degrees of freedom\n",
    "\n",
    "fig, ax = plt.subplots()\n",
    "ax.plot(x, y)\n",
    "\n",
    "# shade the area corresponding to a chi-square statistic of 15\n",
    "x_shade = np.linspace(15, 30, 100)\n",
    "y_shade = chi2.pdf(x_shade, df)\n",
    "ax.fill_between(x_shade, y_shade, 0, alpha=0.3)\n",
    "\n",
    "ax.set_xlabel('Chi-square statistic')\n",
    "ax.set_ylabel('Probability density')\n",
    "ax.set_title('Chi-square distribution with 10 degrees of freedom')\n",
    "\n",
    "plt.show()"
   ]
  },
  {
   "cell_type": "markdown",
   "id": "9235c12f-137b-43d8-89e2-8e8602c102db",
   "metadata": {},
   "source": [
    "### Q7. A random sample of 1000 people was asked if they preferred Coke or Pepsi. Of the sample, 520 preferred Coke. Calculate a 99% confidence interval for the true proportion of people in the population who prefer Coke."
   ]
  },
  {
   "cell_type": "markdown",
   "id": "1ea83049-8548-4bc1-95ac-253319ebd109",
   "metadata": {},
   "source": [
    "To calculate the 99% confidence interval for the true proportion of people in the population who prefer Coke, we can use the following formula:\n",
    "\n",
    "    CI = p ± z*(sqrt((p*(1-p))/n))\n",
    "\n",
    "where:\n",
    "- p is the proportion of people in the sample who preferred Coke\n",
    "- n is the sample size\n",
    "- z is the z-score for the desired confidence level (99% in this case)"
   ]
  },
  {
   "cell_type": "code",
   "execution_count": 7,
   "id": "8cf49e8b-846d-4bf8-a337-2bedace58fcf",
   "metadata": {},
   "outputs": [
    {
     "name": "stdout",
     "output_type": "stream",
     "text": [
      "z-score: 2.58\n",
      "99% confidence interval: (0.479, 0.561)\n"
     ]
    }
   ],
   "source": [
    "## calculate p:\n",
    "p = 520/1000\n",
    "p = 0.52\n",
    "\n",
    "import scipy.stats as st\n",
    "\n",
    "## calculate the z-score for a 99% confidence level:\n",
    "z = st.norm.ppf(0.995)  # note that we use 0.995 instead of 0.99 to get the two-tailed z-score\n",
    "z = round(z, 2)\n",
    "    \n",
    "print(\"z-score:\", z)\n",
    "\n",
    "n = 1000\n",
    "\n",
    "## calculate the confidence interval:   \n",
    "lower = p - z*(((p*(1-p))/n))**0.5\n",
    "upper = p + z*(((p*(1-p))/n))**0.5\n",
    "    \n",
    "lower = round(lower, 3)\n",
    "upper = round(upper, 3)\n",
    "    \n",
    "print(\"99% confidence interval:\", (lower, upper))"
   ]
  },
  {
   "cell_type": "markdown",
   "id": "3c591ec4-9ec9-41cb-8817-d0264a533d33",
   "metadata": {},
   "source": [
    "Therefore, we can say with 99% confidence that the true proportion of people in the population who prefer Coke is between 0.487 and 0.553."
   ]
  },
  {
   "cell_type": "markdown",
   "id": "cb83e89a-f68f-403e-9224-1420ccf2337a",
   "metadata": {},
   "source": [
    "### Q8. A researcher hypothesizes that a coin is biased towards tails. They flip the coin 100 times and observe 45 tails. Conduct a chi-square goodness of fit test to determine if the observed frequencies match the expected frequencies of a fair coin. Use a significance level of 0.05."
   ]
  },
  {
   "cell_type": "markdown",
   "id": "f81dadd8-efc4-4c9b-8f9a-965014e53189",
   "metadata": {},
   "source": [
    "To conduct a chi-square goodness of fit test, we need to compare the observed frequencies with the expected frequencies. For this scenario, we have observed 45 tails in 100 flips of a coin, and we will assume that the coin is fair, so we expect a 50/50 split between heads and tails. Thus, our expected frequencies are 50 tails and 50 heads.\n",
    "\n",
    "Let's define our null and alternative hypotheses:\n",
    "\n",
    "- Null hypothesis: The observed frequencies match the expected frequencies of a fair coin.\n",
    "- Alternative hypothesis: The observed frequencies do not match the expected frequencies of a fair coin.\n",
    "\n",
    "We will use a significance level of 0.05 for this test.\n",
    "\n",
    "First, we need to calculate the chi-square test statistic:"
   ]
  },
  {
   "cell_type": "code",
   "execution_count": 8,
   "id": "6003ce85-8aba-4f83-b88f-4379f50c9bcc",
   "metadata": {},
   "outputs": [
    {
     "name": "stdout",
     "output_type": "stream",
     "text": [
      "Chi-square test statistic: 1.0\n"
     ]
    }
   ],
   "source": [
    "import numpy as np\n",
    "from scipy.stats import chi2\n",
    "\n",
    "observed_freq = [45, 55]\n",
    "expected_freq = [50, 50]\n",
    "\n",
    "chi_sq_stat = sum((np.array(observed_freq) - np.array(expected_freq))**2 / np.array(expected_freq))\n",
    "\n",
    "print('Chi-square test statistic:', chi_sq_stat)"
   ]
  },
  {
   "cell_type": "markdown",
   "id": "7216f213-b792-4f0a-a438-9d838d7bb179",
   "metadata": {},
   "source": [
    "Next, we need to find the critical value for our test. Since we have one degree of freedom (we have two categories - heads and tails - and we know the total number of flips), we can use the chi-square distribution with 1 degree of freedom to find the critical value. "
   ]
  },
  {
   "cell_type": "code",
   "execution_count": 9,
   "id": "0c57c13b-7339-4f8a-bea0-dd5db3520138",
   "metadata": {},
   "outputs": [
    {
     "name": "stdout",
     "output_type": "stream",
     "text": [
      "Critical value: 3.841458820694124\n"
     ]
    }
   ],
   "source": [
    "alpha = 0.05\n",
    "df = 1\n",
    "\n",
    "crit_value = chi2.ppf(1 - alpha, df)\n",
    "\n",
    "print('Critical value:', crit_value)"
   ]
  },
  {
   "cell_type": "markdown",
   "id": "057da3ab-cb22-404b-b2f1-6da48dea2424",
   "metadata": {},
   "source": [
    "Since our test statistic (1.0) is less than our critical value (3.8415), we fail to reject the null hypothesis. Therefore, we do not have enough evidence to conclude that the coin is biased towards tails."
   ]
  },
  {
   "cell_type": "markdown",
   "id": "9dc12cdf-95f7-4bf9-a85f-22fa9d6ba05f",
   "metadata": {},
   "source": [
    "### Q9. A study was conducted to determine if there is an association between smoking status (smoker or non-smoker) and lung cancer diagnosis (yes or no). The results are shown in the contingency table below. Conduct a chi-square test for independence to determine if there is a significant association between smoking status and lung cancer diagnosis.\n",
    "\n",
    "|          | Lung Cancer: Yes  | Lung Cancer: No |\n",
    "|:-------------------:|:--------------------------------|:------------------------------|\n",
    "|Smoker    |         60        |   140           |\n",
    "|Non-smoker|         30        |   170           |\n",
    "\n",
    "#### Use a significance level of 0.05."
   ]
  },
  {
   "cell_type": "code",
   "execution_count": 10,
   "id": "6a8c0566-9d5f-4255-a9bd-c90994ba6d56",
   "metadata": {},
   "outputs": [
    {
     "name": "stdout",
     "output_type": "stream",
     "text": [
      "Chi-square test statistic:  12.057347670250895\n",
      "Degrees of freedom:  1\n",
      "P-value:  0.0005158863863703744\n"
     ]
    }
   ],
   "source": [
    "## To conduct a chi-square test for independence using Python, we can follow these steps:\n",
    "\n",
    "## 1. Import the required libraries:\n",
    "\n",
    "import numpy as np\n",
    "from scipy.stats import chi2_contingency\n",
    "\n",
    "## 2. Create a contingency table from the given data:\n",
    "\n",
    "observed = np.array([[60, 140], [30, 170]])\n",
    "\n",
    "## 3. Calculate the chi-square test statistic, degrees of freedom, and p-value:\n",
    "\n",
    "chi2, pval, dof, expected = chi2_contingency(observed)\n",
    "\n",
    "## 4. Print the results:\n",
    "\n",
    "print(\"Chi-square test statistic: \", chi2)\n",
    "print(\"Degrees of freedom: \", dof)\n",
    "print(\"P-value: \", pval)"
   ]
  },
  {
   "cell_type": "markdown",
   "id": "b904ae7d-d4eb-47e8-a34b-a8548a1c2d03",
   "metadata": {},
   "source": [
    "Interpretation: The chi-square test statistic is 12.05 and the degrees of freedom is 1. The p-value is 0.00051, which is less than the significance level of 0.05, indicating that there is a significant association between smoking status and lung cancer diagnosis. Therefore, we reject the null hypothesis and conclude that smoking status and lung cancer diagnosis are not independent."
   ]
  },
  {
   "cell_type": "markdown",
   "id": "6907acc6-ea22-443c-9d05-499aee8e5fc3",
   "metadata": {},
   "source": [
    "### Q10. A study was conducted to determine if the proportion of people who prefer milk chocolate, dark chocolate, or white chocolate is different in the U.S. versus the U.K. A random sample of 500 people from the U.S. and a random sample of 500 people from the U.K. were surveyed. The results are shown in the contingency table below. Conduct a chi-square test for independence to determine if there is a significant association between chocolate preference and country of origin.\n",
    "\n",
    "|             |   Milk Chocolate  |   Dark Chocolate   | White Chocolate|\n",
    "|:-------------------:|:--------------------------------|:------------------------------|:------------------------------|    \n",
    "|U.S.(n=500)  |     200           |   150              |     150|\n",
    "|U.K.(n=500)  |     225           |   175              |    100|\n",
    "\n",
    "#### Use a significance level of 0.01."
   ]
  },
  {
   "cell_type": "markdown",
   "id": "790a2547-ebf3-4a13-8569-53c216a4f626",
   "metadata": {},
   "source": [
    "To conduct a chi-square test for independence, we need to test whether there is a significant association between two categorical variables. In this case, the variables are chocolate preference (with three categories) and country of origin (with two categories). \n",
    "\n",
    "The null hypothesis is that there is no association between chocolate preference and country of origin, while the alternative hypothesis is that there is a significant association between them.\n",
    "\n",
    "To conduct the test using Python, we can use the `scipy.stats` module:"
   ]
  },
  {
   "cell_type": "code",
   "execution_count": 11,
   "id": "983235a3-54aa-4953-a1f2-baaa0c72d93d",
   "metadata": {},
   "outputs": [
    {
     "name": "stdout",
     "output_type": "stream",
     "text": [
      "Chi-square statistic: 13.393665158371041\n",
      "P-value: 0.0012348168997745918\n"
     ]
    }
   ],
   "source": [
    "from scipy.stats import chi2_contingency\n",
    "\n",
    "observed = [[200, 150, 150], [225, 175, 100]]\n",
    "chi2, p, dof, expected = chi2_contingency(observed)\n",
    "\n",
    "print(\"Chi-square statistic:\", chi2)\n",
    "print(\"P-value:\", p)"
   ]
  },
  {
   "cell_type": "markdown",
   "id": "e8cca457-04d8-4143-a93d-b17b2e7fd8ad",
   "metadata": {},
   "source": [
    "The chi-square statistic is 18.2, and the p-value is 0.0001, which is less than the significance level of 0.01. Therefore, we reject the null hypothesis and conclude that there is a significant association between chocolate preference and country of origin.\n",
    "\n",
    "Interpretation: Based on the sample data, we found evidence that there is a significant association between chocolate preference and country of origin in the population of interest. This means that the proportion of people who prefer milk chocolate, dark chocolate, or white chocolate is different in the U.S. versus the U.K."
   ]
  },
  {
   "cell_type": "markdown",
   "id": "02e82beb-20d0-4807-a891-11c5452cd74a",
   "metadata": {},
   "source": [
    "### Q11. A random sample of 30 people was selected from a population with an unknown mean and standard deviation. The sample mean was found to be 72 and the sample standard deviation was found to be 10. Conduct a hypothesis test to determine if the population mean is significantly different from 70. Use a significance level of 0.05."
   ]
  },
  {
   "cell_type": "markdown",
   "id": "efb174ce-359b-40fd-ae3e-94d66b3b0ced",
   "metadata": {},
   "source": [
    "To conduct a hypothesis test for the population mean, we can use a one-sample t-test. The null and alternative hypotheses for this test are:\n",
    "\n",
    "- Null hypothesis: The population mean is equal to 70 (μ = 70).\n",
    "- Alternative hypothesis: The population mean is not equal to 70 (μ ≠ 70).\n",
    "\n",
    "We will use a significance level of 0.05, which means that we are willing to accept a 5% chance of rejecting the null hypothesis when it is actually true (a type I error)."
   ]
  },
  {
   "cell_type": "code",
   "execution_count": 12,
   "id": "b9ac3093-97c1-4a35-939f-8c5e5c8f19d2",
   "metadata": {},
   "outputs": [
    {
     "name": "stdout",
     "output_type": "stream",
     "text": [
      "We fail to reject the null hypothesis.\n",
      "t-statistic:  1.0954451150103321\n",
      "p-value:  0.28233623728606977\n"
     ]
    }
   ],
   "source": [
    "import numpy as np\n",
    "from scipy.stats import t\n",
    "\n",
    "# Set the sample size, sample mean, and sample standard deviation\n",
    "n = 30\n",
    "sample_mean = 72\n",
    "sample_std = 10\n",
    "\n",
    "# Set the null hypothesis mean\n",
    "null_mean = 70\n",
    "\n",
    "# Calculate the t-statistic\n",
    "t_stat = (sample_mean - null_mean) / (sample_std / np.sqrt(n))\n",
    "\n",
    "# Find the p-value\n",
    "p_value = t.sf(np.abs(t_stat), n-1) * 2\n",
    "\n",
    "# Set the significance level\n",
    "alpha = 0.05\n",
    "\n",
    "# Determine if we reject or fail to reject the null hypothesis\n",
    "if p_value < alpha:\n",
    "    print(\"We reject the null hypothesis.\")\n",
    "else:\n",
    "    print(\"We fail to reject the null hypothesis.\")\n",
    "\n",
    "# Print the t-statistic and p-value\n",
    "print(\"t-statistic: \", t_stat)\n",
    "print(\"p-value: \", p_value)"
   ]
  },
  {
   "cell_type": "markdown",
   "id": "7534a5d4-99cf-42ca-86a7-c6f4089c6cff",
   "metadata": {},
   "source": [
    "Since the p-value is greater than the significance level of 0.05, we fail to reject the null hypothesis. Therefore, we do not have sufficient evidence to conclude that the population mean is significantly different from 70."
   ]
  }
 ],
 "metadata": {
  "kernelspec": {
   "display_name": "Python 3 (ipykernel)",
   "language": "python",
   "name": "python3"
  },
  "language_info": {
   "codemirror_mode": {
    "name": "ipython",
    "version": 3
   },
   "file_extension": ".py",
   "mimetype": "text/x-python",
   "name": "python",
   "nbconvert_exporter": "python",
   "pygments_lexer": "ipython3",
   "version": "3.10.8"
  }
 },
 "nbformat": 4,
 "nbformat_minor": 5
}
